{
 "cells": [
  {
   "cell_type": "code",
   "execution_count": 2,
   "metadata": {},
   "outputs": [],
   "source": [
    "import pandas as pd\n",
    "import matplotlib.pyplot as plt\n",
    "import plotly.express as px"
   ]
  },
  {
   "cell_type": "code",
   "execution_count": 7,
   "metadata": {},
   "outputs": [],
   "source": [
    "df = pd.read_csv(\"TikTok_songs_2020.csv\")"
   ]
  },
  {
   "cell_type": "code",
   "execution_count": 9,
   "metadata": {},
   "outputs": [
    {
     "data": {
      "text/html": [
       "<div>\n",
       "<style scoped>\n",
       "    .dataframe tbody tr th:only-of-type {\n",
       "        vertical-align: middle;\n",
       "    }\n",
       "\n",
       "    .dataframe tbody tr th {\n",
       "        vertical-align: top;\n",
       "    }\n",
       "\n",
       "    .dataframe thead th {\n",
       "        text-align: right;\n",
       "    }\n",
       "</style>\n",
       "<table border=\"1\" class=\"dataframe\">\n",
       "  <thead>\n",
       "    <tr style=\"text-align: right;\">\n",
       "      <th></th>\n",
       "      <th>track_name</th>\n",
       "      <th>artist_name</th>\n",
       "      <th>artist_pop</th>\n",
       "      <th>album</th>\n",
       "      <th>track_pop</th>\n",
       "      <th>danceability</th>\n",
       "      <th>energy</th>\n",
       "      <th>loudness</th>\n",
       "      <th>mode</th>\n",
       "      <th>key</th>\n",
       "      <th>speechiness</th>\n",
       "      <th>acousticness</th>\n",
       "      <th>instrumentalness</th>\n",
       "      <th>liveness</th>\n",
       "      <th>valence</th>\n",
       "      <th>tempo</th>\n",
       "      <th>time_signature</th>\n",
       "      <th>duration_ms</th>\n",
       "    </tr>\n",
       "  </thead>\n",
       "  <tbody>\n",
       "    <tr>\n",
       "      <th>0</th>\n",
       "      <td>Say So</td>\n",
       "      <td>Doja Cat</td>\n",
       "      <td>88</td>\n",
       "      <td>Hot Pink</td>\n",
       "      <td>80</td>\n",
       "      <td>0.787</td>\n",
       "      <td>0.673</td>\n",
       "      <td>-4.583</td>\n",
       "      <td>0</td>\n",
       "      <td>11</td>\n",
       "      <td>0.1590</td>\n",
       "      <td>0.26400</td>\n",
       "      <td>0.000003</td>\n",
       "      <td>0.0904</td>\n",
       "      <td>0.779</td>\n",
       "      <td>110.962</td>\n",
       "      <td>4</td>\n",
       "      <td>237893</td>\n",
       "    </tr>\n",
       "    <tr>\n",
       "      <th>1</th>\n",
       "      <td>Blinding Lights</td>\n",
       "      <td>The Weeknd</td>\n",
       "      <td>93</td>\n",
       "      <td>After Hours</td>\n",
       "      <td>90</td>\n",
       "      <td>0.514</td>\n",
       "      <td>0.730</td>\n",
       "      <td>-5.934</td>\n",
       "      <td>1</td>\n",
       "      <td>1</td>\n",
       "      <td>0.0598</td>\n",
       "      <td>0.00146</td>\n",
       "      <td>0.000095</td>\n",
       "      <td>0.0897</td>\n",
       "      <td>0.334</td>\n",
       "      <td>171.005</td>\n",
       "      <td>4</td>\n",
       "      <td>200040</td>\n",
       "    </tr>\n",
       "    <tr>\n",
       "      <th>2</th>\n",
       "      <td>Supalonely (feat. Gus Dapperton)</td>\n",
       "      <td>BENEE</td>\n",
       "      <td>67</td>\n",
       "      <td>Hey u x</td>\n",
       "      <td>63</td>\n",
       "      <td>0.862</td>\n",
       "      <td>0.631</td>\n",
       "      <td>-4.746</td>\n",
       "      <td>1</td>\n",
       "      <td>7</td>\n",
       "      <td>0.0515</td>\n",
       "      <td>0.29100</td>\n",
       "      <td>0.000209</td>\n",
       "      <td>0.1230</td>\n",
       "      <td>0.841</td>\n",
       "      <td>128.978</td>\n",
       "      <td>4</td>\n",
       "      <td>223488</td>\n",
       "    </tr>\n",
       "    <tr>\n",
       "      <th>3</th>\n",
       "      <td>Savage</td>\n",
       "      <td>Megan Thee Stallion</td>\n",
       "      <td>82</td>\n",
       "      <td>Suga</td>\n",
       "      <td>70</td>\n",
       "      <td>0.843</td>\n",
       "      <td>0.741</td>\n",
       "      <td>-5.609</td>\n",
       "      <td>1</td>\n",
       "      <td>11</td>\n",
       "      <td>0.3340</td>\n",
       "      <td>0.02520</td>\n",
       "      <td>0.000000</td>\n",
       "      <td>0.0960</td>\n",
       "      <td>0.680</td>\n",
       "      <td>168.983</td>\n",
       "      <td>4</td>\n",
       "      <td>155497</td>\n",
       "    </tr>\n",
       "    <tr>\n",
       "      <th>4</th>\n",
       "      <td>Moral of the Story</td>\n",
       "      <td>Ashe</td>\n",
       "      <td>68</td>\n",
       "      <td>Moral of the Story</td>\n",
       "      <td>76</td>\n",
       "      <td>0.572</td>\n",
       "      <td>0.406</td>\n",
       "      <td>-8.624</td>\n",
       "      <td>1</td>\n",
       "      <td>10</td>\n",
       "      <td>0.0427</td>\n",
       "      <td>0.58700</td>\n",
       "      <td>0.000004</td>\n",
       "      <td>0.1020</td>\n",
       "      <td>0.265</td>\n",
       "      <td>119.812</td>\n",
       "      <td>4</td>\n",
       "      <td>201084</td>\n",
       "    </tr>\n",
       "  </tbody>\n",
       "</table>\n",
       "</div>"
      ],
      "text/plain": [
       "                         track_name          artist_name  artist_pop  \\\n",
       "0                            Say So             Doja Cat          88   \n",
       "1                   Blinding Lights           The Weeknd          93   \n",
       "2  Supalonely (feat. Gus Dapperton)                BENEE          67   \n",
       "3                            Savage  Megan Thee Stallion          82   \n",
       "4                Moral of the Story                 Ashe          68   \n",
       "\n",
       "                album  track_pop  danceability  energy  loudness  mode  key  \\\n",
       "0            Hot Pink         80         0.787   0.673    -4.583     0   11   \n",
       "1         After Hours         90         0.514   0.730    -5.934     1    1   \n",
       "2             Hey u x         63         0.862   0.631    -4.746     1    7   \n",
       "3                Suga         70         0.843   0.741    -5.609     1   11   \n",
       "4  Moral of the Story         76         0.572   0.406    -8.624     1   10   \n",
       "\n",
       "   speechiness  acousticness  instrumentalness  liveness  valence    tempo  \\\n",
       "0       0.1590       0.26400          0.000003    0.0904    0.779  110.962   \n",
       "1       0.0598       0.00146          0.000095    0.0897    0.334  171.005   \n",
       "2       0.0515       0.29100          0.000209    0.1230    0.841  128.978   \n",
       "3       0.3340       0.02520          0.000000    0.0960    0.680  168.983   \n",
       "4       0.0427       0.58700          0.000004    0.1020    0.265  119.812   \n",
       "\n",
       "   time_signature  duration_ms  \n",
       "0               4       237893  \n",
       "1               4       200040  \n",
       "2               4       223488  \n",
       "3               4       155497  \n",
       "4               4       201084  "
      ]
     },
     "execution_count": 9,
     "metadata": {},
     "output_type": "execute_result"
    }
   ],
   "source": [
    "df.head()"
   ]
  },
  {
   "cell_type": "code",
   "execution_count": 32,
   "metadata": {},
   "outputs": [
    {
     "data": {
      "text/plain": [
       "track_name\n",
       "20 Min                     1\n",
       "223's (feat. 9lokknine)    1\n",
       "3 Musketeers               1\n",
       "Addison Rae                1\n",
       "Aesthetic                  1\n",
       "Name: artist_pop, dtype: int64"
      ]
     },
     "execution_count": 32,
     "metadata": {},
     "output_type": "execute_result"
    }
   ],
   "source": [
    "graf_dados = df.groupby('track_name').count().head().artist_pop.sort_values(ascending=False) # mostrar o numero de popularidade do artista, do menor para o maior e o nome da musica so os primeiros\n",
    "graf_dados"
   ]
  },
  {
   "cell_type": "code",
   "execution_count": 33,
   "metadata": {},
   "outputs": [
    {
     "data": {
      "text/plain": [
       "([0, 1, 2, 3, 4],\n",
       " [Text(0, 0, ''),\n",
       "  Text(0, 0, ''),\n",
       "  Text(0, 0, ''),\n",
       "  Text(0, 0, ''),\n",
       "  Text(0, 0, '')])"
      ]
     },
     "execution_count": 33,
     "metadata": {},
     "output_type": "execute_result"
    },
    {
     "data": {
      "image/png": "[encoded data removed]",
      "text/plain": [
       "<Figure size 1080x360 with 1 Axes>"
      ]
     },
     "metadata": {
      "needs_background": "light"
     },
     "output_type": "display_data"
    }
   ],
   "source": [
    "plt.figure(figsize=(15,5))\n",
    "plt.bar(graf_dados.index, graf_dados.values)\n",
    "plt.title('Nome e popularidade da musica')\n",
    "plt.xticks(rotation=90)\n",
    "\n",
    "#dei print só nos primeiros pois são muitos artistas e musicas e ficaria assim como vou mostrar no proximo"
   ]
  },
  {
   "cell_type": "code",
   "execution_count": 27,
   "metadata": {},
   "outputs": [],
   "source": [
    "graf_dados = df.groupby('track_name').count().artist_pop.sort_values(ascending=False) \n"
   ]
  },
  {
   "cell_type": "code",
   "execution_count": 29,
   "metadata": {},
   "outputs": [
    {
     "name": "stderr",
     "output_type": "stream",
     "text": [
      "/var/folders/j3/9ldhvq350pl56k53_gcxfxy00000gn/T/ipykernel_19275/1969547322.py:5: UserWarning: Tight layout not applied. The bottom and top margins cannot be made large enough to accommodate all axes decorations.\n",
      "  plt.tight_layout()\n"
     ]
    },
    {
     "data": {
      "image/png": "[encoded data removed]",
      "text/plain": [
       "<Figure size 1080x360 with 1 Axes>"
      ]
     },
     "metadata": {
      "needs_background": "light"
     },
     "output_type": "display_data"
    }
   ],
   "source": [
    "plt.figure(figsize=(15,5))\n",
    "plt.bar(graf_dados.index, graf_dados.values)\n",
    "plt.title('Nome e popularidade da musica')\n",
    "plt.xticks(rotation=90)\n",
    "plt.tight_layout()"
   ]
  },
  {
   "cell_type": "code",
   "execution_count": 37,
   "metadata": {},
   "outputs": [
    {
     "data": {
      "image/png": "[encoded data removed]",
      "text/plain": [
       "<Figure size 432x288 with 1 Axes>"
      ]
     },
     "metadata": {
      "needs_background": "light"
     },
     "output_type": "display_data"
    }
   ],
   "source": [
    "plt.bar(df['artist_name'],df['artist_pop'])\n",
    "plt.show()\n",
    "#nome e popularidade do artista"
   ]
  },
  {
   "cell_type": "code",
   "execution_count": 38,
   "metadata": {},
   "outputs": [
    {
     "data": {
      "application/vnd.plotly.v1+json": {
       "config": {
        "plotlyServerURL": "https://plot.ly"
       },
       "data": [
        {
         "hovertemplate": "variable=track_name<br>index=%{x}<br>value=%{y}<extra></extra>",
         "legendgroup": "track_name",
         "line": {
          "color": "#636efa",
          "dash": "solid"
         },
         "marker": {
          "symbol": "circle"
         },
         "mode": "lines",
         "name": "track_name",
         "orientation": "v",
         "showlegend": true,
         "type": "scatter",
         "x": [
          0,
          1,
          2,
          3,
          4,
          5,
          6,
          7,
          8,
          9,
          10,
          11,
          12,
          13,
          14,
          15,
          16,
          17,
          18,
          19,
          20,
          21,
          22,
          23,
          24,
          25,
          26,
          27,
          28,
          29,
          30,
          31,
          32,
          33,
          34,
          35,
          36,
          37,
          38,
          39,
          40,
          41,
          42,
          43,
          44,
          45,
          46,
          47,
          48,
          49,
          50,
          51,
          52,
          53,
          54,
          55,
          56,
          57,
          58,
          59,
          60,
          61,
          62,
          63,
          64,
          65,
          66,
          67,
          68,
          69,
          70,
          71,
          72,
          73,
          74,
          75,
          76,
          77,
          78,
          79,
          80,
          81,
          82,
          83,
          84,
          85,
          86,
          87,
          88,
          89,
          90,
          91,
          92,
          93,
          94,
          95,
          96,
          97,
          98,
          99,
          100,
          101,
          102,
          103,
          104,
          105,
          106,
          107,
          108,
          109,
          110,
          111,
          112,
          113,
          114,
          115,
          116,
          117,
          118,
          119,
          120,
          121,
          122,
          123,
          124,
          125,
          126,
          127,
          128,
          129,
          130,
          131,
          132,
          133,
          134,
          135,
          136,
          137,
          138,
          139,
          140,
          141,
          142,
          143,
          144,
          145,
          146,
          147,
          148,
          149,
          150,
          151,
          152,
          153,
          154,
          155,
          156,
          157,
          158,
          159,
          160,
          161,
          162,
          163,
          164,
          165,
          166,
          167,
          168,
          169,
          170,
          171,
          172,
          173,
          174,
          175,
          176,
          177,
          178,
          179,
          180,
          181,
          182,
          183,
          184,
          185,
          186,
          187,
          188,
          189,
          190,
          191,
          192,
          193,
          194,
          195,
          196,
          197,
          198,
          199,
          200,
          201,
          202,
          203,
          204,
          205,
          206,
          207,
          208,
          209,
          210,
          211,
          212,
          213,
          214,
          215,
          216,
          217,
          218,
          219,
          220,
          221,
          222,
          223,
          224,
          225,
          226,
          227,
          228,
          229,
          230,
          231,
          232,
          233,
          234,
          235,
          236,
          237,
          238,
          239,
          240,
          241,
          242,
          243,
          244,
          245,
          246,
          247,
          248,
          249,
          250,
          251,
          252,
          253,
          254,
          255,
          256,
          257,
          258,
          259,
          260,
          261,
          262,
          263,
          264,
          265,
          266,
          267,
          268,
          269,
          270,
          271,
          272,
          273,
          274,
          275,
          276,
          277,
          278,
          279,
          280,
          281,
          282,
          283,
          284,
          285,
          286,
          287,
          288,
          289,
          290,
          291
         ],
         "xaxis": "x",
         "y": [
          "Say So",
          "Blinding Lights",
          "Supalonely (feat. Gus Dapperton)",
          "Savage",
          "Moral of the Story",
          "Rain On Me (with Ariana Grande)",
          "Babylon",
          "Replay",
          "My Oh My (feat. DaBaby)",
          "Physical",
          "Glitter",
          "Put Your Records On",
          "Stuck with U (with Justin Bieber)",
          "Break My Heart",
          "Selfish",
          "LEMONS - Demo",
          "The Less I Know The Better",
          "Buttercup",
          "Dissolve",
          "Sunday Best",
          "Airplane Mode",
          "Chinese New Year",
          "LMK",
          "Why Is Everything Chrome (Lean Swag Rock Wit It)",
          "Figure It Out",
          "They Call Me Tiago (Her Name Is Margo)",
          "My Heart Went Oops",
          "Muffins In The Freezer",
          "Beggin'",
          "Kolors",
          "Play Date",
          "Ride It",
          "No Idea",
          "Go Stupid (feat. NLE Choppa & Mike WiLL Made-It)",
          "Cannibal",
          "Lottery (Renegade)",
          "Bad Boy",
          "Hard Times",
          "death bed (coffee for your head)",
          "Backyard Boy",
          "cardigan",
          "Beef FloMix",
          "Psycho!",
          "Party Girl",
          "Electric Love",
          "Producer Man",
          "ily (i love you baby) (feat. Emilee)",
          "Mariposa",
          "FML",
          "Savage Love (Laxed - Siren Beat)",
          "Stunnin'",
          "Deep End",
          "Freak",
          "Funny Thing",
          "Money Trees",
          "Wait a Minute!",
          "Eyes Blue Like The Atlantic",
          "Mood (feat. iann dior)",
          "Mad at Disney",
          "Boss Bitch",
          "Falling",
          "Moon (And It Went Like)",
          "Just Fine",
          "Smile",
          "Bulletproof",
          "Heather",
          "Juicy",
          "Blueberry Faygo",
          "American Boy",
          "Can't Stop Singing",
          "Like That (feat. Gucci Mane)",
          "Gimme Love",
          "Mine",
          "What They Want",
          "La La La",
          "ROXANNE",
          "Homage",
          "Opaul",
          "Part of Your World - From \"The Little Mermaid\" / Soundtrack Version",
          "Relationship (feat. Future)",
          "Borderline",
          "Renee",
          "Don't Start Now",
          "Freak (feat. REI AMI)",
          "Candy",
          "Ophelia",
          "Violent Crimes",
          "Someone To You",
          "Plastic Hearts",
          "Primadonna",
          "Check It Out",
          "Hood Baby",
          "Shoota (feat. Lil Uzi Vert)",
          "I Just Want to Be the One You Love",
          "Make You Mine",
          "To Be So Lonely",
          "Hotel Room Service",
          "M to the B",
          "Say So (feat. Nicki Minaj)",
          "What's My Name?",
          "Whatcha Say",
          "Hey Julie! (feat. Lil Yachty)",
          "Crush",
          "Mr. Blue Sky",
          "Myron",
          "I'm Looking for Mrs. Bubblegum",
          "Partition",
          "Lets Link",
          "Are You Bored Yet? (feat. Clairo)",
          "Trampoline",
          "Paper Planes",
          "She Belongs to the Streets (Toxic)",
          "OUT WEST (feat. Young Thug)",
          "Breathe",
          "Yellow Hearts",
          "Needs",
          "Sofia the First Main Title Theme - From \"Sofia the First\"",
          "Mi Pan Su Su Sum",
          "Wasabi",
          "CITY OF ANGELS",
          "Rags to Riches",
          "Hatchback",
          "VIBEZ",
          "Obnimi (Remix)",
          "All About Cake (feat. Coi Leray & Kaash Paige)",
          "Lose Control",
          "Coño",
          "Grow A Pear",
          "Say So - Japanese Version",
          "Photo ID",
          "TROLLZ (with Nicki Minaj)",
          "Working Bitch",
          "Like That (feat. Gucci Mane)",
          "Rags2Riches 2 (feat. Lil Baby)",
          "Work Out",
          "The Box",
          "Calabria 2008",
          "Lalala",
          "Ben 10 - Theme Song",
          "The Dice Beat Pt. 1",
          "Crimewave",
          "Mr. Sandman",
          "Toy",
          "Tonight You Belong To Me",
          "It Won't Stop (feat. Chris Brown) - EP Version",
          "All I Want",
          "Stronger",
          "After Party",
          "King's Dead (with Kendrick Lamar, Future & James Blake)",
          "Take It Off",
          "3 Musketeers",
          "Heal Me",
          "Queen of Disaster",
          "Leave Em Alone",
          "Hurts So Good",
          "Confident",
          "I'd Rather Sleep",
          "Coffee Breath",
          "Ready or Not",
          "Toosie Slide",
          "Roses - Imanbek Remix",
          "No Idea",
          "Go Crazy",
          "No Guidance (feat. Drake)",
          "Please Mr. Postman - Single Version / Mono",
          "Get Up (feat. Chamillionaire)",
          "Lay All Your Love On Me",
          "Vibe (If I Back It Up)",
          "Something New (feat. Ty Dolla $ign)",
          "Magic In The Hamptons (feat. Lil Yachty)",
          "Watermelon Sugar",
          "Paradise",
          "Cyber Sex",
          "We Know",
          "All The Stars (with SZA)",
          "Because Of You",
          "Chanel",
          "Round of Applause",
          "Daisy",
          "More Than A Woman - From \"Saturday Night Fever\" Soundtrack",
          "Won't Bite (feat. Smino)",
          "Heads Will Roll - A-Trak Remix",
          "Just Can’t Get Enough",
          "Drugs",
          "SUGAR",
          "Y U Gotta B Like That",
          "Take Your Man",
          "Save Your Tears",
          "Love Songs",
          "GOOBA",
          "Bored In The House",
          "Bound 2",
          "Still into You",
          "Don't Wanna Fall In Love",
          "prom dress",
          "fast",
          "High Fashion (feat. Mustard)",
          "Knock at the Door",
          "Be My Baby",
          "Something For Your M.I.N.D.",
          "Mary Jane (All Night Long)",
          "Electric Feel",
          "Savage Remix (feat. Beyoncé)",
          "Dancing in My Room",
          "20 Min",
          "Throw That Back Like a Cadillac",
          "Gangsta",
          "Monster",
          "My Ordinary Life",
          "Walked In",
          "Lemonade",
          "F2020",
          "Desperado",
          "Tap In",
          "Good Form (feat. Lil Wayne) - Remix",
          "Island In The Sun",
          "Deep End Freestyle",
          "Ramalama (Bang Bang)",
          "Outside (feat. Ellie Goulding)",
          "Only The Young - Featured in Miss Americana",
          "Wet (She Got That…)",
          "Walk Man",
          "Marlboro Nights",
          "Aesthetic",
          "Paris",
          "Do It",
          "Hello?",
          "Yellow Hearts (feat. Audrey Mika)",
          "Love Story (Taylor’s Version)",
          "Another Day Of Sun",
          "iSpy (feat. Lil Yachty)",
          "Vibin'",
          "Hungry Hippo",
          "Becky",
          "Kraazy",
          "Kream (feat. Tyga)",
          "Let Go",
          "Lost",
          "Still Don't Know My Name",
          "Disco Inferno",
          "Famous (I'm The One) (feat. Yo Gotti & DeJ Loaf)",
          "Marry Me",
          "TKN (feat. Travis Scott)",
          "Do It Again",
          "223's (feat. 9lokknine)",
          "VALENTINO",
          "May I",
          "THICK (feat. Megan Thee Stallion) - Remix",
          "Rake It Up (feat. Nicki Minaj)",
          "Crisis",
          "Banana (feat. Shaggy) - DJ FLe - Minisiren Remix",
          "Rags2Riches 2 (feat. Lil Baby)",
          "Ponteme Despalda",
          "When She Loved Me",
          "Say It Right",
          "To the Right",
          "Let It Happen",
          "Lemonade (feat. Gunna, Don Toliver & NAV)",
          "Let's Do It Again",
          "SLOW DANCING IN THE DARK",
          "hate u love u",
          "Laxed – Siren Beat",
          "Get It Together",
          "Pocketful of Sunshine",
          "Always Forever",
          "Party Party Party (feat. Chris Brown & Dej Loaf)",
          "Interior Crocodile Alligator",
          "One Wish",
          "Baby I'm Yours",
          "Cha Cha",
          "Go Go Go Who's Next?",
          "No Role Modelz",
          "Addison Rae",
          "WHATS POPPIN",
          "Cheryl",
          "Ultralight Beam",
          "Mr. Clean",
          "feel something",
          "Rodeo",
          "Then Leave (feat. Queendom Come)",
          "I Wanna Love You",
          "Everybody Talks",
          "Can't Leave 'Em Alone (feat. 50 Cent)",
          "Moment 4 Life",
          "We R Who We R",
          "Give Your Heart a Break",
          "Lucky",
          "Buttons",
          "Get Busy",
          "ROCKSTAR (feat. Roddy Ricch)",
          "Who Says",
          "Crystal Dolphin"
         ],
         "yaxis": "y"
        }
       ],
       "layout": {
        "legend": {
         "title": {
          "text": "variable"
         },
         "tracegroupgap": 0
        },
        "margin": {
         "t": 60
        },
        "template": {
         "data": {
          "bar": [
           {
            "error_x": {
             "color": "#2a3f5f"
            },
            "error_y": {
             "color": "#2a3f5f"
            },
            "marker": {
             "line": {
              "color": "#E5ECF6",
              "width": 0.5
             },
             "pattern": {
              "fillmode": "overlay",
              "size": 10,
              "solidity": 0.2
             }
            },
            "type": "bar"
           }
          ],
          "barpolar": [
           {
            "marker": {
             "line": {
              "color": "#E5ECF6",
              "width": 0.5
             },
             "pattern": {
              "fillmode": "overlay",
              "size": 10,
              "solidity": 0.2
             }
            },
            "type": "barpolar"
           }
          ],
          "carpet": [
           {
            "aaxis": {
             "endlinecolor": "#2a3f5f",
             "gridcolor": "white",
             "linecolor": "white",
             "minorgridcolor": "white",
             "startlinecolor": "#2a3f5f"
            },
            "baxis": {
             "endlinecolor": "#2a3f5f",
             "gridcolor": "white",
             "linecolor": "white",
             "minorgridcolor": "white",
             "startlinecolor": "#2a3f5f"
            },
            "type": "carpet"
           }
          ],
          "choropleth": [
           {
            "colorbar": {
             "outlinewidth": 0,
             "ticks": ""
            },
            "type": "choropleth"
           }
          ],
          "contour": [
           {
            "colorbar": {
             "outlinewidth": 0,
             "ticks": ""
            },
            "colorscale": [
             [
              0,
              "#0d0887"
             ],
             [
              0.1111111111111111,
              "#46039f"
             ],
             [
              0.2222222222222222,
              "#7201a8"
             ],
             [
              0.3333333333333333,
              "#9c179e"
             ],
             [
              0.4444444444444444,
              "#bd3786"
             ],
             [
              0.5555555555555556,
              "#d8576b"
             ],
             [
              0.6666666666666666,
              "#ed7953"
             ],
             [
              0.7777777777777778,
              "#fb9f3a"
             ],
             [
              0.8888888888888888,
              "#fdca26"
             ],
             [
              1,
              "#f0f921"
             ]
            ],
            "type": "contour"
           }
          ],
          "contourcarpet": [
           {
            "colorbar": {
             "outlinewidth": 0,
             "ticks": ""
            },
            "type": "contourcarpet"
           }
          ],
          "heatmap": [
           {
            "colorbar": {
             "outlinewidth": 0,
             "ticks": ""
            },
            "colorscale": [
             [
              0,
              "#0d0887"
             ],
             [
              0.1111111111111111,
              "#46039f"
             ],
             [
              0.2222222222222222,
              "#7201a8"
             ],
             [
              0.3333333333333333,
              "#9c179e"
             ],
             [
              0.4444444444444444,
              "#bd3786"
             ],
             [
              0.5555555555555556,
              "#d8576b"
             ],
             [
              0.6666666666666666,
              "#ed7953"
             ],
             [
              0.7777777777777778,
              "#fb9f3a"
             ],
             [
              0.8888888888888888,
              "#fdca26"
             ],
             [
              1,
              "#f0f921"
             ]
            ],
            "type": "heatmap"
           }
          ],
          "heatmapgl": [
           {
            "colorbar": {
             "outlinewidth": 0,
             "ticks": ""
            },
            "colorscale": [
             [
              0,
              "#0d0887"
             ],
             [
              0.1111111111111111,
              "#46039f"
             ],
             [
              0.2222222222222222,
              "#7201a8"
             ],
             [
              0.3333333333333333,
              "#9c179e"
             ],
             [
              0.4444444444444444,
              "#bd3786"
             ],
             [
              0.5555555555555556,
              "#d8576b"
             ],
             [
              0.6666666666666666,
              "#ed7953"
             ],
             [
              0.7777777777777778,
              "#fb9f3a"
             ],
             [
              0.8888888888888888,
              "#fdca26"
             ],
             [
              1,
              "#f0f921"
             ]
            ],
            "type": "heatmapgl"
           }
          ],
          "histogram": [
           {
            "marker": {
             "pattern": {
              "fillmode": "overlay",
              "size": 10,
              "solidity": 0.2
             }
            },
            "type": "histogram"
           }
          ],
          "histogram2d": [
           {
            "colorbar": {
             "outlinewidth": 0,
             "ticks": ""
            },
            "colorscale": [
             [
              0,
              "#0d0887"
             ],
             [
              0.1111111111111111,
              "#46039f"
             ],
             [
              0.2222222222222222,
              "#7201a8"
             ],
             [
              0.3333333333333333,
              "#9c179e"
             ],
             [
              0.4444444444444444,
              "#bd3786"
             ],
             [
              0.5555555555555556,
              "#d8576b"
             ],
             [
              0.6666666666666666,
              "#ed7953"
             ],
             [
              0.7777777777777778,
              "#fb9f3a"
             ],
             [
              0.8888888888888888,
              "#fdca26"
             ],
             [
              1,
              "#f0f921"
             ]
            ],
            "type": "histogram2d"
           }
          ],
          "histogram2dcontour": [
           {
            "colorbar": {
             "outlinewidth": 0,
             "ticks": ""
            },
            "colorscale": [
             [
              0,
              "#0d0887"
             ],
             [
              0.1111111111111111,
              "#46039f"
             ],
             [
              0.2222222222222222,
              "#7201a8"
             ],
             [
              0.3333333333333333,
              "#9c179e"
             ],
             [
              0.4444444444444444,
              "#bd3786"
             ],
             [
              0.5555555555555556,
              "#d8576b"
             ],
             [
              0.6666666666666666,
              "#ed7953"
             ],
             [
              0.7777777777777778,
              "#fb9f3a"
             ],
             [
              0.8888888888888888,
              "#fdca26"
             ],
             [
              1,
              "#f0f921"
             ]
            ],
            "type": "histogram2dcontour"
           }
          ],
          "mesh3d": [
           {
            "colorbar": {
             "outlinewidth": 0,
             "ticks": ""
            },
            "type": "mesh3d"
           }
          ],
          "parcoords": [
           {
            "line": {
             "colorbar": {
              "outlinewidth": 0,
              "ticks": ""
             }
            },
            "type": "parcoords"
           }
          ],
          "pie": [
           {
            "automargin": true,
            "type": "pie"
           }
          ],
          "scatter": [
           {
            "fillpattern": {
             "fillmode": "overlay",
             "size": 10,
             "solidity": 0.2
            },
            "type": "scatter"
           }
          ],
          "scatter3d": [
           {
            "line": {
             "colorbar": {
              "outlinewidth": 0,
              "ticks": ""
             }
            },
            "marker": {
             "colorbar": {
              "outlinewidth": 0,
              "ticks": ""
             }
            },
            "type": "scatter3d"
           }
          ],
          "scattercarpet": [
           {
            "marker": {
             "colorbar": {
              "outlinewidth": 0,
              "ticks": ""
             }
            },
            "type": "scattercarpet"
           }
          ],
          "scattergeo": [
           {
            "marker": {
             "colorbar": {
              "outlinewidth": 0,
              "ticks": ""
             }
            },
            "type": "scattergeo"
           }
          ],
          "scattergl": [
           {
            "marker": {
             "colorbar": {
              "outlinewidth": 0,
              "ticks": ""
             }
            },
            "type": "scattergl"
           }
          ],
          "scattermapbox": [
           {
            "marker": {
             "colorbar": {
              "outlinewidth": 0,
              "ticks": ""
             }
            },
            "type": "scattermapbox"
           }
          ],
          "scatterpolar": [
           {
            "marker": {
             "colorbar": {
              "outlinewidth": 0,
              "ticks": ""
             }
            },
            "type": "scatterpolar"
           }
          ],
          "scatterpolargl": [
           {
            "marker": {
             "colorbar": {
              "outlinewidth": 0,
              "ticks": ""
             }
            },
            "type": "scatterpolargl"
           }
          ],
          "scatterternary": [
           {
            "marker": {
             "colorbar": {
              "outlinewidth": 0,
              "ticks": ""
             }
            },
            "type": "scatterternary"
           }
          ],
          "surface": [
           {
            "colorbar": {
             "outlinewidth": 0,
             "ticks": ""
            },
            "colorscale": [
             [
              0,
              "#0d0887"
             ],
             [
              0.1111111111111111,
              "#46039f"
             ],
             [
              0.2222222222222222,
              "#7201a8"
             ],
             [
              0.3333333333333333,
              "#9c179e"
             ],
             [
              0.4444444444444444,
              "#bd3786"
             ],
             [
              0.5555555555555556,
              "#d8576b"
             ],
             [
              0.6666666666666666,
              "#ed7953"
             ],
             [
              0.7777777777777778,
              "#fb9f3a"
             ],
             [
              0.8888888888888888,
              "#fdca26"
             ],
             [
              1,
              "#f0f921"
             ]
            ],
            "type": "surface"
           }
          ],
          "table": [
           {
            "cells": {
             "fill": {
              "color": "#EBF0F8"
             },
             "line": {
              "color": "white"
             }
            },
            "header": {
             "fill": {
              "color": "#C8D4E3"
             },
             "line": {
              "color": "white"
             }
            },
            "type": "table"
           }
          ]
         },
         "layout": {
          "annotationdefaults": {
           "arrowcolor": "#2a3f5f",
           "arrowhead": 0,
           "arrowwidth": 1
          },
          "autotypenumbers": "strict",
          "coloraxis": {
           "colorbar": {
            "outlinewidth": 0,
            "ticks": ""
           }
          },
          "colorscale": {
           "diverging": [
            [
             0,
             "#8e0152"
            ],
            [
             0.1,
             "#c51b7d"
            ],
            [
             0.2,
             "#de77ae"
            ],
            [
             0.3,
             "#f1b6da"
            ],
            [
             0.4,
             "#fde0ef"
            ],
            [
             0.5,
             "#f7f7f7"
            ],
            [
             0.6,
             "#e6f5d0"
            ],
            [
             0.7,
             "#b8e186"
            ],
            [
             0.8,
             "#7fbc41"
            ],
            [
             0.9,
             "#4d9221"
            ],
            [
             1,
             "#276419"
            ]
           ],
           "sequential": [
            [
             0,
             "#0d0887"
            ],
            [
             0.1111111111111111,
             "#46039f"
            ],
            [
             0.2222222222222222,
             "#7201a8"
            ],
            [
             0.3333333333333333,
             "#9c179e"
            ],
            [
             0.4444444444444444,
             "#bd3786"
            ],
            [
             0.5555555555555556,
             "#d8576b"
            ],
            [
             0.6666666666666666,
             "#ed7953"
            ],
            [
             0.7777777777777778,
             "#fb9f3a"
            ],
            [
             0.8888888888888888,
             "#fdca26"
            ],
            [
             1,
             "#f0f921"
            ]
           ],
           "sequentialminus": [
            [
             0,
             "#0d0887"
            ],
            [
             0.1111111111111111,
             "#46039f"
            ],
            [
             0.2222222222222222,
             "#7201a8"
            ],
            [
             0.3333333333333333,
             "#9c179e"
            ],
            [
             0.4444444444444444,
             "#bd3786"
            ],
            [
             0.5555555555555556,
             "#d8576b"
            ],
            [
             0.6666666666666666,
             "#ed7953"
            ],
            [
             0.7777777777777778,
             "#fb9f3a"
            ],
            [
             0.8888888888888888,
             "#fdca26"
            ],
            [
             1,
             "#f0f921"
            ]
           ]
          },
          "colorway": [
           "#636efa",
           "#EF553B",
           "#00cc96",
           "#ab63fa",
           "#FFA15A",
           "#19d3f3",
           "#FF6692",
           "#B6E880",
           "#FF97FF",
           "#FECB52"
          ],
          "font": {
           "color": "#2a3f5f"
          },
          "geo": {
           "bgcolor": "white",
           "lakecolor": "white",
           "landcolor": "#E5ECF6",
           "showlakes": true,
           "showland": true,
           "subunitcolor": "white"
          },
          "hoverlabel": {
           "align": "left"
          },
          "hovermode": "closest",
          "mapbox": {
           "style": "light"
          },
          "paper_bgcolor": "white",
          "plot_bgcolor": "#E5ECF6",
          "polar": {
           "angularaxis": {
            "gridcolor": "white",
            "linecolor": "white",
            "ticks": ""
           },
           "bgcolor": "#E5ECF6",
           "radialaxis": {
            "gridcolor": "white",
            "linecolor": "white",
            "ticks": ""
           }
          },
          "scene": {
           "xaxis": {
            "backgroundcolor": "#E5ECF6",
            "gridcolor": "white",
            "gridwidth": 2,
            "linecolor": "white",
            "showbackground": true,
            "ticks": "",
            "zerolinecolor": "white"
           },
           "yaxis": {
            "backgroundcolor": "#E5ECF6",
            "gridcolor": "white",
            "gridwidth": 2,
            "linecolor": "white",
            "showbackground": true,
            "ticks": "",
            "zerolinecolor": "white"
           },
           "zaxis": {
            "backgroundcolor": "#E5ECF6",
            "gridcolor": "white",
            "gridwidth": 2,
            "linecolor": "white",
            "showbackground": true,
            "ticks": "",
            "zerolinecolor": "white"
           }
          },
          "shapedefaults": {
           "line": {
            "color": "#2a3f5f"
           }
          },
          "ternary": {
           "aaxis": {
            "gridcolor": "white",
            "linecolor": "white",
            "ticks": ""
           },
           "baxis": {
            "gridcolor": "white",
            "linecolor": "white",
            "ticks": ""
           },
           "bgcolor": "#E5ECF6",
           "caxis": {
            "gridcolor": "white",
            "linecolor": "white",
            "ticks": ""
           }
          },
          "title": {
           "x": 0.05
          },
          "xaxis": {
           "automargin": true,
           "gridcolor": "white",
           "linecolor": "white",
           "ticks": "",
           "title": {
            "standoff": 15
           },
           "zerolinecolor": "white",
           "zerolinewidth": 2
          },
          "yaxis": {
           "automargin": true,
           "gridcolor": "white",
           "linecolor": "white",
           "ticks": "",
           "title": {
            "standoff": 15
           },
           "zerolinecolor": "white",
           "zerolinewidth": 2
          }
         }
        },
        "xaxis": {
         "anchor": "y",
         "domain": [
          0,
          1
         ],
         "title": {
          "text": "index"
         }
        },
        "yaxis": {
         "anchor": "x",
         "domain": [
          0,
          1
         ],
         "title": {
          "text": "value"
         }
        }
       }
      }
     },
     "metadata": {},
     "output_type": "display_data"
    }
   ],
   "source": [
    "grafico = px.line(df['track_name'])\n",
    "grafico.show()"
   ]
  }
 ],
 "metadata": {
  "interpreter": {
   "hash": "aee8b7b246df8f9039afb4144a1f6fd8d2ca17a180786b69acc140d282b71a49"
  },
  "kernelspec": {
   "display_name": "Python 3.10.6 64-bit",
   "language": "python",
   "name": "python3"
  },
  "language_info": {
   "codemirror_mode": {
    "name": "ipython",
    "version": 3
   },
   "file_extension": ".py",
   "mimetype": "text/x-python",
   "name": "python",
   "nbconvert_exporter": "python",
   "pygments_lexer": "ipython3",
   "version": "3.10.6"
  },
  "orig_nbformat": 4
 },
 "nbformat": 4,
 "nbformat_minor": 2
}
