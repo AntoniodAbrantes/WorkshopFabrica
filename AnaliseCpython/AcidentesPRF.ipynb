{
 "cells": [
  {
   "cell_type": "code",
   "execution_count": 4,
   "metadata": {},
   "outputs": [],
   "source": [
    "import pandas as pd\n",
    "import matplotlib.pylab as plt\n",
    "import seaborn as sns\n",
    "import numpy as np\n",
    "import plotly.express as px"
   ]
  },
  {
   "cell_type": "code",
   "execution_count": 33,
   "metadata": {},
   "outputs": [],
   "source": [
    "\n",
    "df = pd.read_csv('datatran2019.csv',encoding=\"ISO-8859-1\", sep=';')\n",
    "df_municipio = pd.read_csv('datatran2019.csv',encoding=\"ISO-8859-1\", sep=';', usecols= ['municipio'])\n",
    "df_br = pd.read_csv('datatran2019.csv',encoding=\"ISO-8859-1\", sep=';', usecols= ['br'])\n",
    "df_km = pd.read_csv('datatran2019.csv',encoding=\"ISO-8859-1\", sep=';', usecols= ['km'])\n",
    "df_feridos = pd.read_csv('datatran2019.csv',encoding=\"ISO-8859-1\", sep=';', usecols= ['feridos'])\n",
    "df_feridos_graves = pd.read_csv('datatran2019.csv',encoding=\"ISO-8859-1\", sep=';', usecols= ['feridos_graves'])\n",
    "df_veiculos = pd.read_csv('datatran2019.csv',encoding=\"ISO-8859-1\", sep=';', usecols= ['veiculos'])\n",
    "df_ilesos = pd.read_csv('datatran2019.csv',encoding=\"ISO-8859-1\", sep=';', usecols= ['ilesos'])\n",
    "df_mortos = pd.read_csv('datatran2019.csv',encoding=\"ISO-8859-1\", sep=';', usecols= ['mortos'])\n",
    "df_pessoas = pd.read_csv('datatran2019.csv',encoding=\"ISO-8859-1\", sep=';', usecols= ['pessoas'])\n"
   ]
  },
  {
   "cell_type": "code",
   "execution_count": 38,
   "metadata": {},
   "outputs": [
    {
     "data": {
      "text/html": [
       "<div>\n",
       "<style scoped>\n",
       "    .dataframe tbody tr th:only-of-type {\n",
       "        vertical-align: middle;\n",
       "    }\n",
       "\n",
       "    .dataframe tbody tr th {\n",
       "        vertical-align: top;\n",
       "    }\n",
       "\n",
       "    .dataframe thead th {\n",
       "        text-align: right;\n",
       "    }\n",
       "</style>\n",
       "<table border=\"1\" class=\"dataframe\">\n",
       "  <thead>\n",
       "    <tr style=\"text-align: right;\">\n",
       "      <th></th>\n",
       "      <th>id</th>\n",
       "      <th>br</th>\n",
       "      <th>pessoas</th>\n",
       "      <th>mortos</th>\n",
       "      <th>feridos_leves</th>\n",
       "      <th>feridos_graves</th>\n",
       "      <th>ilesos</th>\n",
       "      <th>ignorados</th>\n",
       "      <th>feridos</th>\n",
       "      <th>veiculos</th>\n",
       "    </tr>\n",
       "  </thead>\n",
       "  <tbody>\n",
       "    <tr>\n",
       "      <th>count</th>\n",
       "      <td>67556.000000</td>\n",
       "      <td>67458.000000</td>\n",
       "      <td>67556.000000</td>\n",
       "      <td>67556.000000</td>\n",
       "      <td>67556.000000</td>\n",
       "      <td>67556.000000</td>\n",
       "      <td>67556.000000</td>\n",
       "      <td>67556.000000</td>\n",
       "      <td>67556.000000</td>\n",
       "      <td>67556.000000</td>\n",
       "    </tr>\n",
       "    <tr>\n",
       "      <th>mean</th>\n",
       "      <td>222162.356771</td>\n",
       "      <td>215.365294</td>\n",
       "      <td>2.405338</td>\n",
       "      <td>0.079016</td>\n",
       "      <td>0.896427</td>\n",
       "      <td>0.275801</td>\n",
       "      <td>1.016845</td>\n",
       "      <td>0.137249</td>\n",
       "      <td>1.172227</td>\n",
       "      <td>1.660963</td>\n",
       "    </tr>\n",
       "    <tr>\n",
       "      <th>std</th>\n",
       "      <td>23695.828298</td>\n",
       "      <td>131.992468</td>\n",
       "      <td>1.978553</td>\n",
       "      <td>0.322502</td>\n",
       "      <td>1.136344</td>\n",
       "      <td>0.625717</td>\n",
       "      <td>1.505713</td>\n",
       "      <td>0.406618</td>\n",
       "      <td>1.268330</td>\n",
       "      <td>0.726082</td>\n",
       "    </tr>\n",
       "    <tr>\n",
       "      <th>min</th>\n",
       "      <td>182210.000000</td>\n",
       "      <td>10.000000</td>\n",
       "      <td>1.000000</td>\n",
       "      <td>0.000000</td>\n",
       "      <td>0.000000</td>\n",
       "      <td>0.000000</td>\n",
       "      <td>0.000000</td>\n",
       "      <td>0.000000</td>\n",
       "      <td>0.000000</td>\n",
       "      <td>1.000000</td>\n",
       "    </tr>\n",
       "    <tr>\n",
       "      <th>25%</th>\n",
       "      <td>202313.750000</td>\n",
       "      <td>101.000000</td>\n",
       "      <td>1.000000</td>\n",
       "      <td>0.000000</td>\n",
       "      <td>0.000000</td>\n",
       "      <td>0.000000</td>\n",
       "      <td>0.000000</td>\n",
       "      <td>0.000000</td>\n",
       "      <td>1.000000</td>\n",
       "      <td>1.000000</td>\n",
       "    </tr>\n",
       "    <tr>\n",
       "      <th>50%</th>\n",
       "      <td>221731.500000</td>\n",
       "      <td>163.000000</td>\n",
       "      <td>2.000000</td>\n",
       "      <td>0.000000</td>\n",
       "      <td>1.000000</td>\n",
       "      <td>0.000000</td>\n",
       "      <td>1.000000</td>\n",
       "      <td>0.000000</td>\n",
       "      <td>1.000000</td>\n",
       "      <td>2.000000</td>\n",
       "    </tr>\n",
       "    <tr>\n",
       "      <th>75%</th>\n",
       "      <td>241430.500000</td>\n",
       "      <td>343.000000</td>\n",
       "      <td>3.000000</td>\n",
       "      <td>0.000000</td>\n",
       "      <td>1.000000</td>\n",
       "      <td>0.000000</td>\n",
       "      <td>1.000000</td>\n",
       "      <td>0.000000</td>\n",
       "      <td>1.000000</td>\n",
       "      <td>2.000000</td>\n",
       "    </tr>\n",
       "    <tr>\n",
       "      <th>max</th>\n",
       "      <td>466732.000000</td>\n",
       "      <td>495.000000</td>\n",
       "      <td>74.000000</td>\n",
       "      <td>7.000000</td>\n",
       "      <td>43.000000</td>\n",
       "      <td>22.000000</td>\n",
       "      <td>62.000000</td>\n",
       "      <td>10.000000</td>\n",
       "      <td>49.000000</td>\n",
       "      <td>14.000000</td>\n",
       "    </tr>\n",
       "  </tbody>\n",
       "</table>\n",
       "</div>"
      ],
      "text/plain": [
       "                  id            br       pessoas        mortos  feridos_leves  \\\n",
       "count   67556.000000  67458.000000  67556.000000  67556.000000   67556.000000   \n",
       "mean   222162.356771    215.365294      2.405338      0.079016       0.896427   \n",
       "std     23695.828298    131.992468      1.978553      0.322502       1.136344   \n",
       "min    182210.000000     10.000000      1.000000      0.000000       0.000000   \n",
       "25%    202313.750000    101.000000      1.000000      0.000000       0.000000   \n",
       "50%    221731.500000    163.000000      2.000000      0.000000       1.000000   \n",
       "75%    241430.500000    343.000000      3.000000      0.000000       1.000000   \n",
       "max    466732.000000    495.000000     74.000000      7.000000      43.000000   \n",
       "\n",
       "       feridos_graves        ilesos     ignorados       feridos      veiculos  \n",
       "count    67556.000000  67556.000000  67556.000000  67556.000000  67556.000000  \n",
       "mean         0.275801      1.016845      0.137249      1.172227      1.660963  \n",
       "std          0.625717      1.505713      0.406618      1.268330      0.726082  \n",
       "min          0.000000      0.000000      0.000000      0.000000      1.000000  \n",
       "25%          0.000000      0.000000      0.000000      1.000000      1.000000  \n",
       "50%          0.000000      1.000000      0.000000      1.000000      2.000000  \n",
       "75%          0.000000      1.000000      0.000000      1.000000      2.000000  \n",
       "max         22.000000     62.000000     10.000000     49.000000     14.000000  "
      ]
     },
     "execution_count": 38,
     "metadata": {},
     "output_type": "execute_result"
    }
   ],
   "source": [
    "df.describe()"
   ]
  },
  {
   "cell_type": "code",
   "execution_count": 39,
   "metadata": {},
   "outputs": [
    {
     "data": {
      "text/html": [
       "<div>\n",
       "<style scoped>\n",
       "    .dataframe tbody tr th:only-of-type {\n",
       "        vertical-align: middle;\n",
       "    }\n",
       "\n",
       "    .dataframe tbody tr th {\n",
       "        vertical-align: top;\n",
       "    }\n",
       "\n",
       "    .dataframe thead th {\n",
       "        text-align: right;\n",
       "    }\n",
       "</style>\n",
       "<table border=\"1\" class=\"dataframe\">\n",
       "  <thead>\n",
       "    <tr style=\"text-align: right;\">\n",
       "      <th></th>\n",
       "      <th>id</th>\n",
       "      <th>data_inversa</th>\n",
       "      <th>dia_semana</th>\n",
       "      <th>horario</th>\n",
       "      <th>uf</th>\n",
       "      <th>br</th>\n",
       "      <th>km</th>\n",
       "      <th>municipio</th>\n",
       "      <th>causa_acidente</th>\n",
       "      <th>tipo_acidente</th>\n",
       "      <th>...</th>\n",
       "      <th>feridos_graves</th>\n",
       "      <th>ilesos</th>\n",
       "      <th>ignorados</th>\n",
       "      <th>feridos</th>\n",
       "      <th>veiculos</th>\n",
       "      <th>latitude</th>\n",
       "      <th>longitude</th>\n",
       "      <th>regional</th>\n",
       "      <th>delegacia</th>\n",
       "      <th>uop</th>\n",
       "    </tr>\n",
       "  </thead>\n",
       "  <tbody>\n",
       "    <tr>\n",
       "      <th>30408</th>\n",
       "      <td>203836.0</td>\n",
       "      <td>2019-04-17</td>\n",
       "      <td>quarta-feira</td>\n",
       "      <td>08:20:00</td>\n",
       "      <td>ES</td>\n",
       "      <td>393.0</td>\n",
       "      <td>0,8</td>\n",
       "      <td>CACHOEIRO DE ITAPEMIRIM</td>\n",
       "      <td>Mal Súbito</td>\n",
       "      <td>Saída de leito carroçável</td>\n",
       "      <td>...</td>\n",
       "      <td>0</td>\n",
       "      <td>0</td>\n",
       "      <td>0</td>\n",
       "      <td>1</td>\n",
       "      <td>1</td>\n",
       "      <td>-20,841324</td>\n",
       "      <td>-41,15929</td>\n",
       "      <td>SPRF-ES</td>\n",
       "      <td>DEL03-ES</td>\n",
       "      <td>UOP02-DEL03-ES</td>\n",
       "    </tr>\n",
       "    <tr>\n",
       "      <th>58712</th>\n",
       "      <td>247804.0</td>\n",
       "      <td>2019-11-07</td>\n",
       "      <td>quinta-feira</td>\n",
       "      <td>19:00:00</td>\n",
       "      <td>SE</td>\n",
       "      <td>235.0</td>\n",
       "      <td>53</td>\n",
       "      <td>ITABAIANA</td>\n",
       "      <td>Ingestão de álcool e/ou substâncias psicoativa...</td>\n",
       "      <td>Atropelamento de Pedestre</td>\n",
       "      <td>...</td>\n",
       "      <td>1</td>\n",
       "      <td>1</td>\n",
       "      <td>0</td>\n",
       "      <td>1</td>\n",
       "      <td>1</td>\n",
       "      <td>-10,684707</td>\n",
       "      <td>-37,440544</td>\n",
       "      <td>SPRF-SE</td>\n",
       "      <td>DEL01-SE</td>\n",
       "      <td>UOP02-DEL01-SE</td>\n",
       "    </tr>\n",
       "    <tr>\n",
       "      <th>67185</th>\n",
       "      <td>263879.0</td>\n",
       "      <td>2019-12-27</td>\n",
       "      <td>sexta-feira</td>\n",
       "      <td>06:30:00</td>\n",
       "      <td>MG</td>\n",
       "      <td>116.0</td>\n",
       "      <td>545</td>\n",
       "      <td>SANTA BARBARA DO LESTE</td>\n",
       "      <td>Falta de Atenção à Condução</td>\n",
       "      <td>Colisão transversal</td>\n",
       "      <td>...</td>\n",
       "      <td>0</td>\n",
       "      <td>1</td>\n",
       "      <td>0</td>\n",
       "      <td>4</td>\n",
       "      <td>2</td>\n",
       "      <td>-19,92809401</td>\n",
       "      <td>-42,13103837</td>\n",
       "      <td>SPRF-MG</td>\n",
       "      <td>DEL06-MG</td>\n",
       "      <td>UOP02-DEL06-MG</td>\n",
       "    </tr>\n",
       "    <tr>\n",
       "      <th>22827</th>\n",
       "      <td>192073.0</td>\n",
       "      <td>2019-02-18</td>\n",
       "      <td>segunda-feira</td>\n",
       "      <td>05:57:00</td>\n",
       "      <td>SC</td>\n",
       "      <td>101.0</td>\n",
       "      <td>191</td>\n",
       "      <td>BIGUACU</td>\n",
       "      <td>Pista Escorregadia</td>\n",
       "      <td>Saída de leito carroçável</td>\n",
       "      <td>...</td>\n",
       "      <td>0</td>\n",
       "      <td>3</td>\n",
       "      <td>0</td>\n",
       "      <td>1</td>\n",
       "      <td>1</td>\n",
       "      <td>-27,4847</td>\n",
       "      <td>-48,6476</td>\n",
       "      <td>SPRF-SC</td>\n",
       "      <td>DEL01-SC</td>\n",
       "      <td>UOP01-DEL01-SC</td>\n",
       "    </tr>\n",
       "    <tr>\n",
       "      <th>5289</th>\n",
       "      <td>206777.0</td>\n",
       "      <td>2019-04-29</td>\n",
       "      <td>segunda-feira</td>\n",
       "      <td>04:45:00</td>\n",
       "      <td>SC</td>\n",
       "      <td>470.0</td>\n",
       "      <td>60,5</td>\n",
       "      <td>BLUMENAU</td>\n",
       "      <td>Falta de Atenção à Condução</td>\n",
       "      <td>Colisão frontal</td>\n",
       "      <td>...</td>\n",
       "      <td>0</td>\n",
       "      <td>2</td>\n",
       "      <td>0</td>\n",
       "      <td>0</td>\n",
       "      <td>2</td>\n",
       "      <td>-26,88138</td>\n",
       "      <td>-49,164543</td>\n",
       "      <td>SPRF-SC</td>\n",
       "      <td>DEL04-SC</td>\n",
       "      <td>UOP01-DEL04-SC</td>\n",
       "    </tr>\n",
       "  </tbody>\n",
       "</table>\n",
       "<p>5 rows × 30 columns</p>\n",
       "</div>"
      ],
      "text/plain": [
       "             id data_inversa     dia_semana   horario  uf     br    km  \\\n",
       "30408  203836.0   2019-04-17   quarta-feira  08:20:00  ES  393.0   0,8   \n",
       "58712  247804.0   2019-11-07   quinta-feira  19:00:00  SE  235.0    53   \n",
       "67185  263879.0   2019-12-27    sexta-feira  06:30:00  MG  116.0   545   \n",
       "22827  192073.0   2019-02-18  segunda-feira  05:57:00  SC  101.0   191   \n",
       "5289   206777.0   2019-04-29  segunda-feira  04:45:00  SC  470.0  60,5   \n",
       "\n",
       "                     municipio  \\\n",
       "30408  CACHOEIRO DE ITAPEMIRIM   \n",
       "58712                ITABAIANA   \n",
       "67185   SANTA BARBARA DO LESTE   \n",
       "22827                  BIGUACU   \n",
       "5289                  BLUMENAU   \n",
       "\n",
       "                                          causa_acidente  \\\n",
       "30408                                         Mal Súbito   \n",
       "58712  Ingestão de álcool e/ou substâncias psicoativa...   \n",
       "67185                        Falta de Atenção à Condução   \n",
       "22827                                 Pista Escorregadia   \n",
       "5289                         Falta de Atenção à Condução   \n",
       "\n",
       "                   tipo_acidente  ... feridos_graves ilesos ignorados feridos  \\\n",
       "30408  Saída de leito carroçável  ...              0      0         0       1   \n",
       "58712  Atropelamento de Pedestre  ...              1      1         0       1   \n",
       "67185        Colisão transversal  ...              0      1         0       4   \n",
       "22827  Saída de leito carroçável  ...              0      3         0       1   \n",
       "5289             Colisão frontal  ...              0      2         0       0   \n",
       "\n",
       "      veiculos      latitude     longitude  regional  delegacia  \\\n",
       "30408        1    -20,841324     -41,15929   SPRF-ES   DEL03-ES   \n",
       "58712        1    -10,684707    -37,440544   SPRF-SE   DEL01-SE   \n",
       "67185        2  -19,92809401  -42,13103837   SPRF-MG   DEL06-MG   \n",
       "22827        1      -27,4847      -48,6476   SPRF-SC   DEL01-SC   \n",
       "5289         2     -26,88138    -49,164543   SPRF-SC   DEL04-SC   \n",
       "\n",
       "                  uop  \n",
       "30408  UOP02-DEL03-ES  \n",
       "58712  UOP02-DEL01-SE  \n",
       "67185  UOP02-DEL06-MG  \n",
       "22827  UOP01-DEL01-SC  \n",
       "5289   UOP01-DEL04-SC  \n",
       "\n",
       "[5 rows x 30 columns]"
      ]
     },
     "execution_count": 39,
     "metadata": {},
     "output_type": "execute_result"
    }
   ],
   "source": [
    "df.sample(5)"
   ]
  },
  {
   "cell_type": "code",
   "execution_count": 37,
   "metadata": {},
   "outputs": [
    {
     "data": {
      "text/plain": [
       "(67556, 30)"
      ]
     },
     "execution_count": 37,
     "metadata": {},
     "output_type": "execute_result"
    }
   ],
   "source": [
    "df = df.drop_duplicates()\n",
    "df.shape"
   ]
  },
  {
   "cell_type": "code",
   "execution_count": 43,
   "metadata": {},
   "outputs": [
    {
     "data": {
      "text/plain": [
       "id                         0\n",
       "data_inversa               0\n",
       "dia_semana                 0\n",
       "horario                    0\n",
       "uf                         0\n",
       "br                        98\n",
       "km                        98\n",
       "municipio                  0\n",
       "causa_acidente             0\n",
       "tipo_acidente             17\n",
       "classificacao_acidente     0\n",
       "fase_dia                   0\n",
       "sentido_via                0\n",
       "condicao_metereologica     0\n",
       "tipo_pista                 0\n",
       "tracado_via                0\n",
       "uso_solo                   0\n",
       "pessoas                    0\n",
       "mortos                     0\n",
       "feridos_leves              0\n",
       "feridos_graves             0\n",
       "ilesos                     0\n",
       "ignorados                  0\n",
       "feridos                    0\n",
       "veiculos                   0\n",
       "latitude                   0\n",
       "longitude                  0\n",
       "regional                   2\n",
       "delegacia                 49\n",
       "uop                       54\n",
       "dtype: int64"
      ]
     },
     "execution_count": 43,
     "metadata": {},
     "output_type": "execute_result"
    }
   ],
   "source": [
    "df.isnull().sum()\n"
   ]
  },
  {
   "cell_type": "code",
   "execution_count": 47,
   "metadata": {},
   "outputs": [
    {
     "data": {
      "text/plain": [
       "id                        False\n",
       "data_inversa              False\n",
       "dia_semana                False\n",
       "horario                   False\n",
       "uf                        False\n",
       "br                         True\n",
       "km                         True\n",
       "municipio                 False\n",
       "causa_acidente            False\n",
       "tipo_acidente              True\n",
       "classificacao_acidente    False\n",
       "fase_dia                  False\n",
       "sentido_via               False\n",
       "condicao_metereologica    False\n",
       "tipo_pista                False\n",
       "tracado_via               False\n",
       "uso_solo                  False\n",
       "pessoas                   False\n",
       "mortos                    False\n",
       "feridos_leves             False\n",
       "feridos_graves            False\n",
       "ilesos                    False\n",
       "ignorados                 False\n",
       "feridos                   False\n",
       "veiculos                  False\n",
       "latitude                  False\n",
       "longitude                 False\n",
       "regional                   True\n",
       "delegacia                  True\n",
       "uop                        True\n",
       "dtype: bool"
      ]
     },
     "execution_count": 47,
     "metadata": {},
     "output_type": "execute_result"
    }
   ],
   "source": [
    "df.isnull().any()"
   ]
  },
  {
   "cell_type": "code",
   "execution_count": 46,
   "metadata": {},
   "outputs": [
    {
     "data": {
      "text/html": [
       "<div>\n",
       "<style scoped>\n",
       "    .dataframe tbody tr th:only-of-type {\n",
       "        vertical-align: middle;\n",
       "    }\n",
       "\n",
       "    .dataframe tbody tr th {\n",
       "        vertical-align: top;\n",
       "    }\n",
       "\n",
       "    .dataframe thead th {\n",
       "        text-align: right;\n",
       "    }\n",
       "</style>\n",
       "<table border=\"1\" class=\"dataframe\">\n",
       "  <thead>\n",
       "    <tr style=\"text-align: right;\">\n",
       "      <th></th>\n",
       "      <th>id</th>\n",
       "      <th>data_inversa</th>\n",
       "      <th>dia_semana</th>\n",
       "      <th>horario</th>\n",
       "      <th>uf</th>\n",
       "      <th>br</th>\n",
       "      <th>km</th>\n",
       "      <th>municipio</th>\n",
       "      <th>causa_acidente</th>\n",
       "      <th>tipo_acidente</th>\n",
       "      <th>...</th>\n",
       "      <th>feridos_graves</th>\n",
       "      <th>ilesos</th>\n",
       "      <th>ignorados</th>\n",
       "      <th>feridos</th>\n",
       "      <th>veiculos</th>\n",
       "      <th>latitude</th>\n",
       "      <th>longitude</th>\n",
       "      <th>regional</th>\n",
       "      <th>delegacia</th>\n",
       "      <th>uop</th>\n",
       "    </tr>\n",
       "  </thead>\n",
       "  <tbody>\n",
       "    <tr>\n",
       "      <th>105</th>\n",
       "      <td>183442.0</td>\n",
       "      <td>2019-01-04</td>\n",
       "      <td>sexta-feira</td>\n",
       "      <td>17:10:00</td>\n",
       "      <td>SC</td>\n",
       "      <td>280.0</td>\n",
       "      <td>230,2</td>\n",
       "      <td>CANOINHAS</td>\n",
       "      <td>Defeito Mecânico no Veículo</td>\n",
       "      <td>NaN</td>\n",
       "      <td>...</td>\n",
       "      <td>0</td>\n",
       "      <td>1</td>\n",
       "      <td>0</td>\n",
       "      <td>0</td>\n",
       "      <td>1</td>\n",
       "      <td>-26,187521</td>\n",
       "      <td>-50,361839</td>\n",
       "      <td>SPRF-SC</td>\n",
       "      <td>DEL06-SC</td>\n",
       "      <td>UOP04-DEL06-SC</td>\n",
       "    </tr>\n",
       "    <tr>\n",
       "      <th>464</th>\n",
       "      <td>185300.0</td>\n",
       "      <td>2019-01-14</td>\n",
       "      <td>segunda-feira</td>\n",
       "      <td>23:20:00</td>\n",
       "      <td>MA</td>\n",
       "      <td>222.0</td>\n",
       "      <td>628</td>\n",
       "      <td>ACAILANDIA</td>\n",
       "      <td>Pista Escorregadia</td>\n",
       "      <td>NaN</td>\n",
       "      <td>...</td>\n",
       "      <td>1</td>\n",
       "      <td>1</td>\n",
       "      <td>0</td>\n",
       "      <td>1</td>\n",
       "      <td>2</td>\n",
       "      <td>-4,778386</td>\n",
       "      <td>-47,130708</td>\n",
       "      <td>SPRF-MA</td>\n",
       "      <td>DEL04-MA</td>\n",
       "      <td>UOP03-DEL04-MA</td>\n",
       "    </tr>\n",
       "    <tr>\n",
       "      <th>497</th>\n",
       "      <td>185443.0</td>\n",
       "      <td>2019-01-15</td>\n",
       "      <td>terça-feira</td>\n",
       "      <td>20:52:00</td>\n",
       "      <td>ES</td>\n",
       "      <td>101.0</td>\n",
       "      <td>148</td>\n",
       "      <td>LINHARES</td>\n",
       "      <td>Ingestão de Álcool</td>\n",
       "      <td>NaN</td>\n",
       "      <td>...</td>\n",
       "      <td>0</td>\n",
       "      <td>2</td>\n",
       "      <td>0</td>\n",
       "      <td>0</td>\n",
       "      <td>2</td>\n",
       "      <td>-19,38471211</td>\n",
       "      <td>-40,06733363</td>\n",
       "      <td>SPRF-ES</td>\n",
       "      <td>DEL04-ES</td>\n",
       "      <td>UOP01-DEL04-ES</td>\n",
       "    </tr>\n",
       "    <tr>\n",
       "      <th>521</th>\n",
       "      <td>185538.0</td>\n",
       "      <td>2019-01-16</td>\n",
       "      <td>quarta-feira</td>\n",
       "      <td>08:40:00</td>\n",
       "      <td>GO</td>\n",
       "      <td>NaN</td>\n",
       "      <td>NaN</td>\n",
       "      <td>CATALAO</td>\n",
       "      <td>Falta de Atenção à Condução</td>\n",
       "      <td>Colisão transversal</td>\n",
       "      <td>...</td>\n",
       "      <td>0</td>\n",
       "      <td>1</td>\n",
       "      <td>0</td>\n",
       "      <td>1</td>\n",
       "      <td>2</td>\n",
       "      <td>-18,10702393</td>\n",
       "      <td>-47,8894043</td>\n",
       "      <td>SPRF-GO</td>\n",
       "      <td>DEL06-GO</td>\n",
       "      <td>UOP01-DEL06-GO</td>\n",
       "    </tr>\n",
       "    <tr>\n",
       "      <th>771</th>\n",
       "      <td>186746.0</td>\n",
       "      <td>2019-01-22</td>\n",
       "      <td>terça-feira</td>\n",
       "      <td>07:35:00</td>\n",
       "      <td>PA</td>\n",
       "      <td>155.0</td>\n",
       "      <td>343</td>\n",
       "      <td>MARABA</td>\n",
       "      <td>Não guardar distância de segurança</td>\n",
       "      <td>NaN</td>\n",
       "      <td>...</td>\n",
       "      <td>0</td>\n",
       "      <td>1</td>\n",
       "      <td>0</td>\n",
       "      <td>1</td>\n",
       "      <td>2</td>\n",
       "      <td>-5,369574</td>\n",
       "      <td>-49,077969</td>\n",
       "      <td>SPRF-PA</td>\n",
       "      <td>DEL03-PA</td>\n",
       "      <td>UOP01-DEL03-PA</td>\n",
       "    </tr>\n",
       "    <tr>\n",
       "      <th>...</th>\n",
       "      <td>...</td>\n",
       "      <td>...</td>\n",
       "      <td>...</td>\n",
       "      <td>...</td>\n",
       "      <td>...</td>\n",
       "      <td>...</td>\n",
       "      <td>...</td>\n",
       "      <td>...</td>\n",
       "      <td>...</td>\n",
       "      <td>...</td>\n",
       "      <td>...</td>\n",
       "      <td>...</td>\n",
       "      <td>...</td>\n",
       "      <td>...</td>\n",
       "      <td>...</td>\n",
       "      <td>...</td>\n",
       "      <td>...</td>\n",
       "      <td>...</td>\n",
       "      <td>...</td>\n",
       "      <td>...</td>\n",
       "      <td>...</td>\n",
       "    </tr>\n",
       "    <tr>\n",
       "      <th>66911</th>\n",
       "      <td>259717.0</td>\n",
       "      <td>2019-12-30</td>\n",
       "      <td>segunda-feira</td>\n",
       "      <td>14:30:00</td>\n",
       "      <td>MS</td>\n",
       "      <td>NaN</td>\n",
       "      <td>NaN</td>\n",
       "      <td>NAVIRAI</td>\n",
       "      <td>Falta de Atenção à Condução</td>\n",
       "      <td>Colisão traseira</td>\n",
       "      <td>...</td>\n",
       "      <td>0</td>\n",
       "      <td>2</td>\n",
       "      <td>0</td>\n",
       "      <td>0</td>\n",
       "      <td>2</td>\n",
       "      <td>-23,26208614</td>\n",
       "      <td>-53,71231209</td>\n",
       "      <td>SPRF-PR</td>\n",
       "      <td>DEL06-PR</td>\n",
       "      <td>UOP03-DEL06-PR</td>\n",
       "    </tr>\n",
       "    <tr>\n",
       "      <th>67296</th>\n",
       "      <td>269412.0</td>\n",
       "      <td>2019-06-11</td>\n",
       "      <td>terça-feira</td>\n",
       "      <td>17:09:00</td>\n",
       "      <td>PR</td>\n",
       "      <td>476.0</td>\n",
       "      <td>118,7</td>\n",
       "      <td>COLOMBO</td>\n",
       "      <td>Desobediência às normas de trânsito pelo pedestre</td>\n",
       "      <td>Queda de ocupante de veículo</td>\n",
       "      <td>...</td>\n",
       "      <td>1</td>\n",
       "      <td>0</td>\n",
       "      <td>1</td>\n",
       "      <td>1</td>\n",
       "      <td>1</td>\n",
       "      <td>-25,35634</td>\n",
       "      <td>-49,180828</td>\n",
       "      <td>SPRF-PR</td>\n",
       "      <td>DEL01-PR</td>\n",
       "      <td>NaN</td>\n",
       "    </tr>\n",
       "    <tr>\n",
       "      <th>67332</th>\n",
       "      <td>273207.0</td>\n",
       "      <td>2019-08-20</td>\n",
       "      <td>terça-feira</td>\n",
       "      <td>09:00:00</td>\n",
       "      <td>PB</td>\n",
       "      <td>NaN</td>\n",
       "      <td>NaN</td>\n",
       "      <td>JOAO PESSOA</td>\n",
       "      <td>Falta de Atenção à Condução</td>\n",
       "      <td>Colisão com objeto estático</td>\n",
       "      <td>...</td>\n",
       "      <td>0</td>\n",
       "      <td>1</td>\n",
       "      <td>0</td>\n",
       "      <td>0</td>\n",
       "      <td>1</td>\n",
       "      <td>-7,10100978</td>\n",
       "      <td>-34,83236974</td>\n",
       "      <td>SPRF-PB</td>\n",
       "      <td>DEL01-PB</td>\n",
       "      <td>UOP01-DEL01-PB</td>\n",
       "    </tr>\n",
       "    <tr>\n",
       "      <th>67356</th>\n",
       "      <td>276149.0</td>\n",
       "      <td>2019-12-10</td>\n",
       "      <td>terça-feira</td>\n",
       "      <td>00:56:00</td>\n",
       "      <td>PR</td>\n",
       "      <td>NaN</td>\n",
       "      <td>NaN</td>\n",
       "      <td>CURITIBA</td>\n",
       "      <td>Falta de Atenção à Condução</td>\n",
       "      <td>Queda de ocupante de veículo</td>\n",
       "      <td>...</td>\n",
       "      <td>0</td>\n",
       "      <td>0</td>\n",
       "      <td>0</td>\n",
       "      <td>1</td>\n",
       "      <td>1</td>\n",
       "      <td>-25,52139792</td>\n",
       "      <td>-49,33461527</td>\n",
       "      <td>SPRF-PR</td>\n",
       "      <td>DEL01-PR</td>\n",
       "      <td>UAP06-DEL01-PR</td>\n",
       "    </tr>\n",
       "    <tr>\n",
       "      <th>67473</th>\n",
       "      <td>323581.0</td>\n",
       "      <td>2019-12-15</td>\n",
       "      <td>domingo</td>\n",
       "      <td>01:00:00</td>\n",
       "      <td>SC</td>\n",
       "      <td>NaN</td>\n",
       "      <td>NaN</td>\n",
       "      <td>BIGUACU</td>\n",
       "      <td>Fenômenos da Natureza</td>\n",
       "      <td>Colisão com objeto estático</td>\n",
       "      <td>...</td>\n",
       "      <td>0</td>\n",
       "      <td>0</td>\n",
       "      <td>0</td>\n",
       "      <td>2</td>\n",
       "      <td>1</td>\n",
       "      <td>-27,52095104</td>\n",
       "      <td>-48,63886898</td>\n",
       "      <td>SPRF-SC</td>\n",
       "      <td>DEL01-SC</td>\n",
       "      <td>UOP01-DEL01-SC</td>\n",
       "    </tr>\n",
       "  </tbody>\n",
       "</table>\n",
       "<p>161 rows × 30 columns</p>\n",
       "</div>"
      ],
      "text/plain": [
       "             id data_inversa     dia_semana   horario  uf     br     km  \\\n",
       "105    183442.0   2019-01-04    sexta-feira  17:10:00  SC  280.0  230,2   \n",
       "464    185300.0   2019-01-14  segunda-feira  23:20:00  MA  222.0    628   \n",
       "497    185443.0   2019-01-15    terça-feira  20:52:00  ES  101.0    148   \n",
       "521    185538.0   2019-01-16   quarta-feira  08:40:00  GO    NaN    NaN   \n",
       "771    186746.0   2019-01-22    terça-feira  07:35:00  PA  155.0    343   \n",
       "...         ...          ...            ...       ...  ..    ...    ...   \n",
       "66911  259717.0   2019-12-30  segunda-feira  14:30:00  MS    NaN    NaN   \n",
       "67296  269412.0   2019-06-11    terça-feira  17:09:00  PR  476.0  118,7   \n",
       "67332  273207.0   2019-08-20    terça-feira  09:00:00  PB    NaN    NaN   \n",
       "67356  276149.0   2019-12-10    terça-feira  00:56:00  PR    NaN    NaN   \n",
       "67473  323581.0   2019-12-15        domingo  01:00:00  SC    NaN    NaN   \n",
       "\n",
       "         municipio                                     causa_acidente  \\\n",
       "105      CANOINHAS                        Defeito Mecânico no Veículo   \n",
       "464     ACAILANDIA                                 Pista Escorregadia   \n",
       "497       LINHARES                                 Ingestão de Álcool   \n",
       "521        CATALAO                        Falta de Atenção à Condução   \n",
       "771         MARABA                 Não guardar distância de segurança   \n",
       "...            ...                                                ...   \n",
       "66911      NAVIRAI                        Falta de Atenção à Condução   \n",
       "67296      COLOMBO  Desobediência às normas de trânsito pelo pedestre   \n",
       "67332  JOAO PESSOA                        Falta de Atenção à Condução   \n",
       "67356     CURITIBA                        Falta de Atenção à Condução   \n",
       "67473      BIGUACU                              Fenômenos da Natureza   \n",
       "\n",
       "                      tipo_acidente  ... feridos_graves ilesos ignorados  \\\n",
       "105                             NaN  ...              0      1         0   \n",
       "464                             NaN  ...              1      1         0   \n",
       "497                             NaN  ...              0      2         0   \n",
       "521             Colisão transversal  ...              0      1         0   \n",
       "771                             NaN  ...              0      1         0   \n",
       "...                             ...  ...            ...    ...       ...   \n",
       "66911              Colisão traseira  ...              0      2         0   \n",
       "67296  Queda de ocupante de veículo  ...              1      0         1   \n",
       "67332   Colisão com objeto estático  ...              0      1         0   \n",
       "67356  Queda de ocupante de veículo  ...              0      0         0   \n",
       "67473   Colisão com objeto estático  ...              0      0         0   \n",
       "\n",
       "      feridos veiculos      latitude     longitude  regional  delegacia  \\\n",
       "105         0        1    -26,187521    -50,361839   SPRF-SC   DEL06-SC   \n",
       "464         1        2     -4,778386    -47,130708   SPRF-MA   DEL04-MA   \n",
       "497         0        2  -19,38471211  -40,06733363   SPRF-ES   DEL04-ES   \n",
       "521         1        2  -18,10702393   -47,8894043   SPRF-GO   DEL06-GO   \n",
       "771         1        2     -5,369574    -49,077969   SPRF-PA   DEL03-PA   \n",
       "...       ...      ...           ...           ...       ...        ...   \n",
       "66911       0        2  -23,26208614  -53,71231209   SPRF-PR   DEL06-PR   \n",
       "67296       1        1     -25,35634    -49,180828   SPRF-PR   DEL01-PR   \n",
       "67332       0        1   -7,10100978  -34,83236974   SPRF-PB   DEL01-PB   \n",
       "67356       1        1  -25,52139792  -49,33461527   SPRF-PR   DEL01-PR   \n",
       "67473       2        1  -27,52095104  -48,63886898   SPRF-SC   DEL01-SC   \n",
       "\n",
       "                  uop  \n",
       "105    UOP04-DEL06-SC  \n",
       "464    UOP03-DEL04-MA  \n",
       "497    UOP01-DEL04-ES  \n",
       "521    UOP01-DEL06-GO  \n",
       "771    UOP01-DEL03-PA  \n",
       "...               ...  \n",
       "66911  UOP03-DEL06-PR  \n",
       "67296             NaN  \n",
       "67332  UOP01-DEL01-PB  \n",
       "67356  UAP06-DEL01-PR  \n",
       "67473  UOP01-DEL01-SC  \n",
       "\n",
       "[161 rows x 30 columns]"
      ]
     },
     "execution_count": 46,
     "metadata": {},
     "output_type": "execute_result"
    }
   ],
   "source": [
    "df[df.isnull().T.any()] "
   ]
  },
  {
   "cell_type": "code",
   "execution_count": 67,
   "metadata": {},
   "outputs": [],
   "source": [
    "df.loc[df.tipo_acidente.isnull(),'tipo_acidente'] = 'Sem registro'\n",
    "df.loc[df.br.isnull(),'br'] = 'Sem registro'\n",
    "df.loc[df.km.isnull(),'km'] = 'Sem registro'\n",
    "df.loc[df.uop.isnull(),'uop'] = 'Sem registro'\n",
    "df.loc[df.regional.isnull(),'regional'] = 'Sem registro'\n",
    "df.loc[df.delegacia.isnull(),'delegacia'] = 'Sem registro'"
   ]
  },
  {
   "cell_type": "code",
   "execution_count": 69,
   "metadata": {},
   "outputs": [
    {
     "data": {
      "text/html": [
       "<div>\n",
       "<style scoped>\n",
       "    .dataframe tbody tr th:only-of-type {\n",
       "        vertical-align: middle;\n",
       "    }\n",
       "\n",
       "    .dataframe tbody tr th {\n",
       "        vertical-align: top;\n",
       "    }\n",
       "\n",
       "    .dataframe thead th {\n",
       "        text-align: right;\n",
       "    }\n",
       "</style>\n",
       "<table border=\"1\" class=\"dataframe\">\n",
       "  <thead>\n",
       "    <tr style=\"text-align: right;\">\n",
       "      <th></th>\n",
       "      <th>id</th>\n",
       "      <th>data_inversa</th>\n",
       "      <th>dia_semana</th>\n",
       "      <th>horario</th>\n",
       "      <th>uf</th>\n",
       "      <th>br</th>\n",
       "      <th>km</th>\n",
       "      <th>municipio</th>\n",
       "      <th>causa_acidente</th>\n",
       "      <th>tipo_acidente</th>\n",
       "      <th>...</th>\n",
       "      <th>feridos_graves</th>\n",
       "      <th>ilesos</th>\n",
       "      <th>ignorados</th>\n",
       "      <th>feridos</th>\n",
       "      <th>veiculos</th>\n",
       "      <th>latitude</th>\n",
       "      <th>longitude</th>\n",
       "      <th>regional</th>\n",
       "      <th>delegacia</th>\n",
       "      <th>uop</th>\n",
       "    </tr>\n",
       "  </thead>\n",
       "  <tbody>\n",
       "    <tr>\n",
       "      <th>521</th>\n",
       "      <td>185538.0</td>\n",
       "      <td>2019-01-16</td>\n",
       "      <td>quarta-feira</td>\n",
       "      <td>08:40:00</td>\n",
       "      <td>GO</td>\n",
       "      <td>Sem registro</td>\n",
       "      <td>Sem registro</td>\n",
       "      <td>CATALAO</td>\n",
       "      <td>Falta de Atenção à Condução</td>\n",
       "      <td>Colisão transversal</td>\n",
       "      <td>...</td>\n",
       "      <td>0</td>\n",
       "      <td>1</td>\n",
       "      <td>0</td>\n",
       "      <td>1</td>\n",
       "      <td>2</td>\n",
       "      <td>-18,10702393</td>\n",
       "      <td>-47,8894043</td>\n",
       "      <td>SPRF-GO</td>\n",
       "      <td>DEL06-GO</td>\n",
       "      <td>UOP01-DEL06-GO</td>\n",
       "    </tr>\n",
       "    <tr>\n",
       "      <th>464</th>\n",
       "      <td>185300.0</td>\n",
       "      <td>2019-01-14</td>\n",
       "      <td>segunda-feira</td>\n",
       "      <td>23:20:00</td>\n",
       "      <td>MA</td>\n",
       "      <td>222.0</td>\n",
       "      <td>628</td>\n",
       "      <td>ACAILANDIA</td>\n",
       "      <td>Pista Escorregadia</td>\n",
       "      <td>Sem registro</td>\n",
       "      <td>...</td>\n",
       "      <td>1</td>\n",
       "      <td>1</td>\n",
       "      <td>0</td>\n",
       "      <td>1</td>\n",
       "      <td>2</td>\n",
       "      <td>-4,778386</td>\n",
       "      <td>-47,130708</td>\n",
       "      <td>SPRF-MA</td>\n",
       "      <td>DEL04-MA</td>\n",
       "      <td>UOP03-DEL04-MA</td>\n",
       "    </tr>\n",
       "  </tbody>\n",
       "</table>\n",
       "<p>2 rows × 30 columns</p>\n",
       "</div>"
      ],
      "text/plain": [
       "           id data_inversa     dia_semana   horario  uf            br  \\\n",
       "521  185538.0   2019-01-16   quarta-feira  08:40:00  GO  Sem registro   \n",
       "464  185300.0   2019-01-14  segunda-feira  23:20:00  MA         222.0   \n",
       "\n",
       "               km   municipio               causa_acidente  \\\n",
       "521  Sem registro     CATALAO  Falta de Atenção à Condução   \n",
       "464           628  ACAILANDIA           Pista Escorregadia   \n",
       "\n",
       "           tipo_acidente  ... feridos_graves ilesos ignorados feridos  \\\n",
       "521  Colisão transversal  ...              0      1         0       1   \n",
       "464         Sem registro  ...              1      1         0       1   \n",
       "\n",
       "    veiculos      latitude    longitude  regional  delegacia             uop  \n",
       "521        2  -18,10702393  -47,8894043   SPRF-GO   DEL06-GO  UOP01-DEL06-GO  \n",
       "464        2     -4,778386   -47,130708   SPRF-MA   DEL04-MA  UOP03-DEL04-MA  \n",
       "\n",
       "[2 rows x 30 columns]"
      ]
     },
     "execution_count": 69,
     "metadata": {},
     "output_type": "execute_result"
    }
   ],
   "source": [
    "df.loc[[521,464], :]"
   ]
  },
  {
   "cell_type": "code",
   "execution_count": 70,
   "metadata": {},
   "outputs": [
    {
     "data": {
      "text/plain": [
       "id                        0\n",
       "data_inversa              0\n",
       "dia_semana                0\n",
       "horario                   0\n",
       "uf                        0\n",
       "br                        0\n",
       "km                        0\n",
       "municipio                 0\n",
       "causa_acidente            0\n",
       "tipo_acidente             0\n",
       "classificacao_acidente    0\n",
       "fase_dia                  0\n",
       "sentido_via               0\n",
       "condicao_metereologica    0\n",
       "tipo_pista                0\n",
       "tracado_via               0\n",
       "uso_solo                  0\n",
       "pessoas                   0\n",
       "mortos                    0\n",
       "feridos_leves             0\n",
       "feridos_graves            0\n",
       "ilesos                    0\n",
       "ignorados                 0\n",
       "feridos                   0\n",
       "veiculos                  0\n",
       "latitude                  0\n",
       "longitude                 0\n",
       "regional                  0\n",
       "delegacia                 0\n",
       "uop                       0\n",
       "dtype: int64"
      ]
     },
     "execution_count": 70,
     "metadata": {},
     "output_type": "execute_result"
    }
   ],
   "source": [
    "df.isnull().sum()"
   ]
  },
  {
   "cell_type": "code",
   "execution_count": 71,
   "metadata": {},
   "outputs": [
    {
     "name": "stdout",
     "output_type": "stream",
     "text": [
      "<class 'pandas.core.frame.DataFrame'>\n",
      "Int64Index: 67556 entries, 0 to 67555\n",
      "Data columns (total 30 columns):\n",
      " #   Column                  Non-Null Count  Dtype  \n",
      "---  ------                  --------------  -----  \n",
      " 0   id                      67556 non-null  float64\n",
      " 1   data_inversa            67556 non-null  object \n",
      " 2   dia_semana              67556 non-null  object \n",
      " 3   horario                 67556 non-null  object \n",
      " 4   uf                      67556 non-null  object \n",
      " 5   br                      67556 non-null  object \n",
      " 6   km                      67556 non-null  object \n",
      " 7   municipio               67556 non-null  object \n",
      " 8   causa_acidente          67556 non-null  object \n",
      " 9   tipo_acidente           67556 non-null  object \n",
      " 10  classificacao_acidente  67556 non-null  object \n",
      " 11  fase_dia                67556 non-null  object \n",
      " 12  sentido_via             67556 non-null  object \n",
      " 13  condicao_metereologica  67556 non-null  object \n",
      " 14  tipo_pista              67556 non-null  object \n",
      " 15  tracado_via             67556 non-null  object \n",
      " 16  uso_solo                67556 non-null  object \n",
      " 17  pessoas                 67556 non-null  int64  \n",
      " 18  mortos                  67556 non-null  int64  \n",
      " 19  feridos_leves           67556 non-null  int64  \n",
      " 20  feridos_graves          67556 non-null  int64  \n",
      " 21  ilesos                  67556 non-null  int64  \n",
      " 22  ignorados               67556 non-null  int64  \n",
      " 23  feridos                 67556 non-null  int64  \n",
      " 24  veiculos                67556 non-null  int64  \n",
      " 25  latitude                67556 non-null  object \n",
      " 26  longitude               67556 non-null  object \n",
      " 27  regional                67556 non-null  object \n",
      " 28  delegacia               67556 non-null  object \n",
      " 29  uop                     67556 non-null  object \n",
      "dtypes: float64(1), int64(8), object(21)\n",
      "memory usage: 18.0+ MB\n"
     ]
    }
   ],
   "source": [
    "df.info()"
   ]
  },
  {
   "cell_type": "code",
   "execution_count": 78,
   "metadata": {},
   "outputs": [
    {
     "data": {
      "text/html": [
       "<div>\n",
       "<style scoped>\n",
       "    .dataframe tbody tr th:only-of-type {\n",
       "        vertical-align: middle;\n",
       "    }\n",
       "\n",
       "    .dataframe tbody tr th {\n",
       "        vertical-align: top;\n",
       "    }\n",
       "\n",
       "    .dataframe thead th {\n",
       "        text-align: right;\n",
       "    }\n",
       "</style>\n",
       "<table border=\"1\" class=\"dataframe\">\n",
       "  <thead>\n",
       "    <tr style=\"text-align: right;\">\n",
       "      <th></th>\n",
       "      <th>id</th>\n",
       "      <th>data_inversa</th>\n",
       "      <th>dia_semana</th>\n",
       "      <th>horario</th>\n",
       "      <th>uf</th>\n",
       "      <th>br</th>\n",
       "      <th>km</th>\n",
       "      <th>municipio</th>\n",
       "      <th>causa_acidente</th>\n",
       "      <th>tipo_acidente</th>\n",
       "      <th>...</th>\n",
       "      <th>feridos_graves</th>\n",
       "      <th>ilesos</th>\n",
       "      <th>ignorados</th>\n",
       "      <th>feridos</th>\n",
       "      <th>veiculos</th>\n",
       "      <th>latitude</th>\n",
       "      <th>longitude</th>\n",
       "      <th>regional</th>\n",
       "      <th>delegacia</th>\n",
       "      <th>uop</th>\n",
       "    </tr>\n",
       "  </thead>\n",
       "  <tbody>\n",
       "  </tbody>\n",
       "</table>\n",
       "<p>0 rows × 30 columns</p>\n",
       "</div>"
      ],
      "text/plain": [
       "Empty DataFrame\n",
       "Columns: [id, data_inversa, dia_semana, horario, uf, br, km, municipio, causa_acidente, tipo_acidente, classificacao_acidente, fase_dia, sentido_via, condicao_metereologica, tipo_pista, tracado_via, uso_solo, pessoas, mortos, feridos_leves, feridos_graves, ilesos, ignorados, feridos, veiculos, latitude, longitude, regional, delegacia, uop]\n",
       "Index: []\n",
       "\n",
       "[0 rows x 30 columns]"
      ]
     },
     "execution_count": 78,
     "metadata": {},
     "output_type": "execute_result"
    }
   ],
   "source": [
    "df[df.duplicated()]"
   ]
  },
  {
   "cell_type": "code",
   "execution_count": 79,
   "metadata": {},
   "outputs": [
    {
     "data": {
      "text/html": [
       "<div>\n",
       "<style scoped>\n",
       "    .dataframe tbody tr th:only-of-type {\n",
       "        vertical-align: middle;\n",
       "    }\n",
       "\n",
       "    .dataframe tbody tr th {\n",
       "        vertical-align: top;\n",
       "    }\n",
       "\n",
       "    .dataframe thead th {\n",
       "        text-align: right;\n",
       "    }\n",
       "</style>\n",
       "<table border=\"1\" class=\"dataframe\">\n",
       "  <thead>\n",
       "    <tr style=\"text-align: right;\">\n",
       "      <th></th>\n",
       "      <th>data_inversa</th>\n",
       "      <th>dia_semana</th>\n",
       "      <th>horario</th>\n",
       "      <th>uf</th>\n",
       "      <th>br</th>\n",
       "      <th>km</th>\n",
       "      <th>municipio</th>\n",
       "      <th>causa_acidente</th>\n",
       "      <th>tipo_acidente</th>\n",
       "      <th>classificacao_acidente</th>\n",
       "      <th>...</th>\n",
       "      <th>feridos_graves</th>\n",
       "      <th>ilesos</th>\n",
       "      <th>ignorados</th>\n",
       "      <th>feridos</th>\n",
       "      <th>veiculos</th>\n",
       "      <th>latitude</th>\n",
       "      <th>longitude</th>\n",
       "      <th>regional</th>\n",
       "      <th>delegacia</th>\n",
       "      <th>uop</th>\n",
       "    </tr>\n",
       "    <tr>\n",
       "      <th>id</th>\n",
       "      <th></th>\n",
       "      <th></th>\n",
       "      <th></th>\n",
       "      <th></th>\n",
       "      <th></th>\n",
       "      <th></th>\n",
       "      <th></th>\n",
       "      <th></th>\n",
       "      <th></th>\n",
       "      <th></th>\n",
       "      <th></th>\n",
       "      <th></th>\n",
       "      <th></th>\n",
       "      <th></th>\n",
       "      <th></th>\n",
       "      <th></th>\n",
       "      <th></th>\n",
       "      <th></th>\n",
       "      <th></th>\n",
       "      <th></th>\n",
       "      <th></th>\n",
       "    </tr>\n",
       "  </thead>\n",
       "  <tbody>\n",
       "    <tr>\n",
       "      <th>182256.0</th>\n",
       "      <td>2019-01-01</td>\n",
       "      <td>terça-feira</td>\n",
       "      <td>04:00:00</td>\n",
       "      <td>CE</td>\n",
       "      <td>116.0</td>\n",
       "      <td>136,9</td>\n",
       "      <td>RUSSAS</td>\n",
       "      <td>Animais na Pista</td>\n",
       "      <td>Atropelamento de Animal</td>\n",
       "      <td>Sem Vítimas</td>\n",
       "      <td>...</td>\n",
       "      <td>0</td>\n",
       "      <td>1</td>\n",
       "      <td>0</td>\n",
       "      <td>0</td>\n",
       "      <td>1</td>\n",
       "      <td>-4,766018</td>\n",
       "      <td>-38,056034</td>\n",
       "      <td>SPRF-CE</td>\n",
       "      <td>DEL03-CE</td>\n",
       "      <td>UOP01-DEL03-CE</td>\n",
       "    </tr>\n",
       "    <tr>\n",
       "      <th>182263.0</th>\n",
       "      <td>2019-01-01</td>\n",
       "      <td>terça-feira</td>\n",
       "      <td>05:00:00</td>\n",
       "      <td>MT</td>\n",
       "      <td>158.0</td>\n",
       "      <td>599,5</td>\n",
       "      <td>AGUA BOA</td>\n",
       "      <td>Defeito Mecânico no Veículo</td>\n",
       "      <td>Incêndio</td>\n",
       "      <td>Sem Vítimas</td>\n",
       "      <td>...</td>\n",
       "      <td>0</td>\n",
       "      <td>1</td>\n",
       "      <td>0</td>\n",
       "      <td>0</td>\n",
       "      <td>1</td>\n",
       "      <td>-14,319</td>\n",
       "      <td>-52,169</td>\n",
       "      <td>SPRF-MT</td>\n",
       "      <td>DEL07-MT</td>\n",
       "      <td>UOP02-DEL07-MT</td>\n",
       "    </tr>\n",
       "    <tr>\n",
       "      <th>182277.0</th>\n",
       "      <td>2019-01-01</td>\n",
       "      <td>terça-feira</td>\n",
       "      <td>10:00:00</td>\n",
       "      <td>PA</td>\n",
       "      <td>10.0</td>\n",
       "      <td>34</td>\n",
       "      <td>DOM ELISEU</td>\n",
       "      <td>Velocidade Incompatível</td>\n",
       "      <td>Colisão traseira</td>\n",
       "      <td>Sem Vítimas</td>\n",
       "      <td>...</td>\n",
       "      <td>0</td>\n",
       "      <td>6</td>\n",
       "      <td>0</td>\n",
       "      <td>0</td>\n",
       "      <td>2</td>\n",
       "      <td>-4,15296734</td>\n",
       "      <td>-47,54608154</td>\n",
       "      <td>SPRF-PA</td>\n",
       "      <td>DEL02-PA</td>\n",
       "      <td>UOP02-DEL02-PA</td>\n",
       "    </tr>\n",
       "    <tr>\n",
       "      <th>182289.0</th>\n",
       "      <td>2019-01-01</td>\n",
       "      <td>terça-feira</td>\n",
       "      <td>08:30:00</td>\n",
       "      <td>BA</td>\n",
       "      <td>101.0</td>\n",
       "      <td>13</td>\n",
       "      <td>RIO REAL</td>\n",
       "      <td>Ingestão de Álcool</td>\n",
       "      <td>Colisão traseira</td>\n",
       "      <td>Com Vítimas Feridas</td>\n",
       "      <td>...</td>\n",
       "      <td>0</td>\n",
       "      <td>1</td>\n",
       "      <td>0</td>\n",
       "      <td>1</td>\n",
       "      <td>2</td>\n",
       "      <td>-11,5896</td>\n",
       "      <td>-37,8761</td>\n",
       "      <td>SPRF-SE</td>\n",
       "      <td>DEL02-SE</td>\n",
       "      <td>UOP03-DEL02-SE</td>\n",
       "    </tr>\n",
       "    <tr>\n",
       "      <th>182307.0</th>\n",
       "      <td>2019-01-01</td>\n",
       "      <td>terça-feira</td>\n",
       "      <td>13:50:00</td>\n",
       "      <td>BA</td>\n",
       "      <td>116.0</td>\n",
       "      <td>440</td>\n",
       "      <td>FEIRA DE SANTANA</td>\n",
       "      <td>Ingestão de Álcool</td>\n",
       "      <td>Saída de leito carroçável</td>\n",
       "      <td>Com Vítimas Feridas</td>\n",
       "      <td>...</td>\n",
       "      <td>1</td>\n",
       "      <td>1</td>\n",
       "      <td>0</td>\n",
       "      <td>2</td>\n",
       "      <td>2</td>\n",
       "      <td>-12,344</td>\n",
       "      <td>-39,087</td>\n",
       "      <td>SPRF-BA</td>\n",
       "      <td>DEL02-BA</td>\n",
       "      <td>UOP01-DEL02-BA</td>\n",
       "    </tr>\n",
       "    <tr>\n",
       "      <th>...</th>\n",
       "      <td>...</td>\n",
       "      <td>...</td>\n",
       "      <td>...</td>\n",
       "      <td>...</td>\n",
       "      <td>...</td>\n",
       "      <td>...</td>\n",
       "      <td>...</td>\n",
       "      <td>...</td>\n",
       "      <td>...</td>\n",
       "      <td>...</td>\n",
       "      <td>...</td>\n",
       "      <td>...</td>\n",
       "      <td>...</td>\n",
       "      <td>...</td>\n",
       "      <td>...</td>\n",
       "      <td>...</td>\n",
       "      <td>...</td>\n",
       "      <td>...</td>\n",
       "      <td>...</td>\n",
       "      <td>...</td>\n",
       "      <td>...</td>\n",
       "    </tr>\n",
       "    <tr>\n",
       "      <th>444933.0</th>\n",
       "      <td>2019-09-10</td>\n",
       "      <td>terça-feira</td>\n",
       "      <td>17:15:00</td>\n",
       "      <td>TO</td>\n",
       "      <td>153.0</td>\n",
       "      <td>410</td>\n",
       "      <td>MIRANORTE</td>\n",
       "      <td>Falta de Atenção à Condução</td>\n",
       "      <td>Saída de leito carroçável</td>\n",
       "      <td>Com Vítimas Feridas</td>\n",
       "      <td>...</td>\n",
       "      <td>0</td>\n",
       "      <td>0</td>\n",
       "      <td>0</td>\n",
       "      <td>1</td>\n",
       "      <td>1</td>\n",
       "      <td>-9,49885975</td>\n",
       "      <td>-48,58649141</td>\n",
       "      <td>SPRF-TO</td>\n",
       "      <td>DEL02-TO</td>\n",
       "      <td>UOP02-DEL02-TO</td>\n",
       "    </tr>\n",
       "    <tr>\n",
       "      <th>459923.0</th>\n",
       "      <td>2019-06-15</td>\n",
       "      <td>sábado</td>\n",
       "      <td>05:30:00</td>\n",
       "      <td>SP</td>\n",
       "      <td>116.0</td>\n",
       "      <td>209,8</td>\n",
       "      <td>GUARULHOS</td>\n",
       "      <td>Falta de Atenção do Pedestre</td>\n",
       "      <td>Atropelamento de Pedestre</td>\n",
       "      <td>Com Vítimas Feridas</td>\n",
       "      <td>...</td>\n",
       "      <td>1</td>\n",
       "      <td>1</td>\n",
       "      <td>0</td>\n",
       "      <td>1</td>\n",
       "      <td>1</td>\n",
       "      <td>-23,42511799</td>\n",
       "      <td>-46,40221101</td>\n",
       "      <td>SPRF-SP</td>\n",
       "      <td>DEL01-SP</td>\n",
       "      <td>UOP01-DEL01-SP</td>\n",
       "    </tr>\n",
       "    <tr>\n",
       "      <th>460497.0</th>\n",
       "      <td>2019-04-20</td>\n",
       "      <td>sábado</td>\n",
       "      <td>01:00:00</td>\n",
       "      <td>RJ</td>\n",
       "      <td>101.0</td>\n",
       "      <td>67</td>\n",
       "      <td>CAMPOS DOS GOYTACAZES</td>\n",
       "      <td>Ingestão de Álcool</td>\n",
       "      <td>Saída de leito carroçável</td>\n",
       "      <td>Com Vítimas Feridas</td>\n",
       "      <td>...</td>\n",
       "      <td>0</td>\n",
       "      <td>0</td>\n",
       "      <td>0</td>\n",
       "      <td>2</td>\n",
       "      <td>1</td>\n",
       "      <td>-21,76751094</td>\n",
       "      <td>-41,34876249</td>\n",
       "      <td>SPRF-RJ</td>\n",
       "      <td>DEL08-RJ</td>\n",
       "      <td>UOP02-DEL08-RJ</td>\n",
       "    </tr>\n",
       "    <tr>\n",
       "      <th>465497.0</th>\n",
       "      <td>2019-03-15</td>\n",
       "      <td>sexta-feira</td>\n",
       "      <td>10:30:00</td>\n",
       "      <td>RN</td>\n",
       "      <td>427.0</td>\n",
       "      <td>99</td>\n",
       "      <td>CAICO</td>\n",
       "      <td>Falta de Atenção à Condução</td>\n",
       "      <td>Colisão transversal</td>\n",
       "      <td>Com Vítimas Feridas</td>\n",
       "      <td>...</td>\n",
       "      <td>1</td>\n",
       "      <td>1</td>\n",
       "      <td>1</td>\n",
       "      <td>1</td>\n",
       "      <td>2</td>\n",
       "      <td>-6,45929918</td>\n",
       "      <td>-37,09847983</td>\n",
       "      <td>SPRF-RN</td>\n",
       "      <td>DEL03-RN</td>\n",
       "      <td>UOP01-DEL03-RN</td>\n",
       "    </tr>\n",
       "    <tr>\n",
       "      <th>465626.0</th>\n",
       "      <td>2019-04-21</td>\n",
       "      <td>domingo</td>\n",
       "      <td>18:50:00</td>\n",
       "      <td>MG</td>\n",
       "      <td>40.0</td>\n",
       "      <td>529,8</td>\n",
       "      <td>CONTAGEM</td>\n",
       "      <td>Desobediência às normas de trânsito pelo condutor</td>\n",
       "      <td>Colisão lateral</td>\n",
       "      <td>Com Vítimas Feridas</td>\n",
       "      <td>...</td>\n",
       "      <td>0</td>\n",
       "      <td>1</td>\n",
       "      <td>1</td>\n",
       "      <td>1</td>\n",
       "      <td>2</td>\n",
       "      <td>-19,91635592</td>\n",
       "      <td>-44,03966566</td>\n",
       "      <td>SPRF-MG</td>\n",
       "      <td>DEL01-MG</td>\n",
       "      <td>UOP02-DEL01-MG</td>\n",
       "    </tr>\n",
       "  </tbody>\n",
       "</table>\n",
       "<p>67556 rows × 29 columns</p>\n",
       "</div>"
      ],
      "text/plain": [
       "         data_inversa   dia_semana   horario  uf     br     km  \\\n",
       "id                                                               \n",
       "182256.0   2019-01-01  terça-feira  04:00:00  CE  116.0  136,9   \n",
       "182263.0   2019-01-01  terça-feira  05:00:00  MT  158.0  599,5   \n",
       "182277.0   2019-01-01  terça-feira  10:00:00  PA   10.0     34   \n",
       "182289.0   2019-01-01  terça-feira  08:30:00  BA  101.0     13   \n",
       "182307.0   2019-01-01  terça-feira  13:50:00  BA  116.0    440   \n",
       "...               ...          ...       ...  ..    ...    ...   \n",
       "444933.0   2019-09-10  terça-feira  17:15:00  TO  153.0    410   \n",
       "459923.0   2019-06-15       sábado  05:30:00  SP  116.0  209,8   \n",
       "460497.0   2019-04-20       sábado  01:00:00  RJ  101.0     67   \n",
       "465497.0   2019-03-15  sexta-feira  10:30:00  RN  427.0     99   \n",
       "465626.0   2019-04-21      domingo  18:50:00  MG   40.0  529,8   \n",
       "\n",
       "                      municipio  \\\n",
       "id                                \n",
       "182256.0                 RUSSAS   \n",
       "182263.0               AGUA BOA   \n",
       "182277.0             DOM ELISEU   \n",
       "182289.0               RIO REAL   \n",
       "182307.0       FEIRA DE SANTANA   \n",
       "...                         ...   \n",
       "444933.0              MIRANORTE   \n",
       "459923.0              GUARULHOS   \n",
       "460497.0  CAMPOS DOS GOYTACAZES   \n",
       "465497.0                  CAICO   \n",
       "465626.0               CONTAGEM   \n",
       "\n",
       "                                             causa_acidente  \\\n",
       "id                                                            \n",
       "182256.0                                   Animais na Pista   \n",
       "182263.0                        Defeito Mecânico no Veículo   \n",
       "182277.0                            Velocidade Incompatível   \n",
       "182289.0                                 Ingestão de Álcool   \n",
       "182307.0                                 Ingestão de Álcool   \n",
       "...                                                     ...   \n",
       "444933.0                        Falta de Atenção à Condução   \n",
       "459923.0                       Falta de Atenção do Pedestre   \n",
       "460497.0                                 Ingestão de Álcool   \n",
       "465497.0                        Falta de Atenção à Condução   \n",
       "465626.0  Desobediência às normas de trânsito pelo condutor   \n",
       "\n",
       "                      tipo_acidente classificacao_acidente  ...  \\\n",
       "id                                                          ...   \n",
       "182256.0    Atropelamento de Animal            Sem Vítimas  ...   \n",
       "182263.0                   Incêndio            Sem Vítimas  ...   \n",
       "182277.0           Colisão traseira            Sem Vítimas  ...   \n",
       "182289.0           Colisão traseira    Com Vítimas Feridas  ...   \n",
       "182307.0  Saída de leito carroçável    Com Vítimas Feridas  ...   \n",
       "...                             ...                    ...  ...   \n",
       "444933.0  Saída de leito carroçável    Com Vítimas Feridas  ...   \n",
       "459923.0  Atropelamento de Pedestre    Com Vítimas Feridas  ...   \n",
       "460497.0  Saída de leito carroçável    Com Vítimas Feridas  ...   \n",
       "465497.0        Colisão transversal    Com Vítimas Feridas  ...   \n",
       "465626.0            Colisão lateral    Com Vítimas Feridas  ...   \n",
       "\n",
       "         feridos_graves ilesos ignorados feridos veiculos      latitude  \\\n",
       "id                                                                        \n",
       "182256.0              0      1         0       0        1     -4,766018   \n",
       "182263.0              0      1         0       0        1       -14,319   \n",
       "182277.0              0      6         0       0        2   -4,15296734   \n",
       "182289.0              0      1         0       1        2      -11,5896   \n",
       "182307.0              1      1         0       2        2       -12,344   \n",
       "...                 ...    ...       ...     ...      ...           ...   \n",
       "444933.0              0      0         0       1        1   -9,49885975   \n",
       "459923.0              1      1         0       1        1  -23,42511799   \n",
       "460497.0              0      0         0       2        1  -21,76751094   \n",
       "465497.0              1      1         1       1        2   -6,45929918   \n",
       "465626.0              0      1         1       1        2  -19,91635592   \n",
       "\n",
       "             longitude  regional  delegacia             uop  \n",
       "id                                                           \n",
       "182256.0    -38,056034   SPRF-CE   DEL03-CE  UOP01-DEL03-CE  \n",
       "182263.0       -52,169   SPRF-MT   DEL07-MT  UOP02-DEL07-MT  \n",
       "182277.0  -47,54608154   SPRF-PA   DEL02-PA  UOP02-DEL02-PA  \n",
       "182289.0      -37,8761   SPRF-SE   DEL02-SE  UOP03-DEL02-SE  \n",
       "182307.0       -39,087   SPRF-BA   DEL02-BA  UOP01-DEL02-BA  \n",
       "...                ...       ...        ...             ...  \n",
       "444933.0  -48,58649141   SPRF-TO   DEL02-TO  UOP02-DEL02-TO  \n",
       "459923.0  -46,40221101   SPRF-SP   DEL01-SP  UOP01-DEL01-SP  \n",
       "460497.0  -41,34876249   SPRF-RJ   DEL08-RJ  UOP02-DEL08-RJ  \n",
       "465497.0  -37,09847983   SPRF-RN   DEL03-RN  UOP01-DEL03-RN  \n",
       "465626.0  -44,03966566   SPRF-MG   DEL01-MG  UOP02-DEL01-MG  \n",
       "\n",
       "[67556 rows x 29 columns]"
      ]
     },
     "execution_count": 79,
     "metadata": {},
     "output_type": "execute_result"
    }
   ],
   "source": [
    "df = df.set_index('id')\n",
    "df"
   ]
  },
  {
   "cell_type": "code",
   "execution_count": 80,
   "metadata": {},
   "outputs": [
    {
     "data": {
      "text/plain": [
       "Float64Index([182256.0, 182263.0, 182277.0, 182289.0, 182307.0, 182316.0,\n",
       "              182334.0, 182361.0, 182362.0, 182410.0,\n",
       "              ...\n",
       "              409935.0, 411532.0, 421304.0, 423894.0, 424082.0, 444933.0,\n",
       "              459923.0, 460497.0, 465497.0, 465626.0],\n",
       "             dtype='float64', name='id', length=67556)"
      ]
     },
     "execution_count": 80,
     "metadata": {},
     "output_type": "execute_result"
    }
   ],
   "source": [
    "df.index"
   ]
  },
  {
   "cell_type": "code",
   "execution_count": 111,
   "metadata": {},
   "outputs": [],
   "source": [
    "graf_dados = df.groupby('uf').count().feridos.sort_values(ascending=False) "
   ]
  },
  {
   "cell_type": "code",
   "execution_count": 105,
   "metadata": {},
   "outputs": [
    {
     "data": {
      "text/plain": [
       "Text(0.5, 1.0, 'Numero de acidentes por estado')"
      ]
     },
     "execution_count": 105,
     "metadata": {},
     "output_type": "execute_result"
    },
    {
     "data": {
      "image/png": "[encoded data removed]",
      "text/plain": [
       "<Figure size 3600x720 with 1 Axes>"
      ]
     },
     "metadata": {
      "needs_background": "light"
     },
     "output_type": "display_data"
    }
   ],
   "source": [
    "plt.figure(figsize=(50,10))\n",
    "plt.bar(graf_dados.index, graf_dados.values)\n",
    "plt.title('Numero de acidentes por estado')"
   ]
  },
  {
   "cell_type": "code",
   "execution_count": 109,
   "metadata": {},
   "outputs": [
    {
     "data": {
      "text/plain": [
       "uf\n",
       "MG    8736\n",
       "SC    8432\n",
       "PR    7722\n",
       "RJ    4616\n",
       "RS    4598\n",
       "SP    4379\n",
       "BA    3487\n",
       "GO    3358\n",
       "ES    2846\n",
       "PE    2739\n",
       "MT    2139\n",
       "CE    1694\n",
       "PB    1565\n",
       "RO    1536\n",
       "RN    1442\n",
       "MS    1436\n",
       "PI    1347\n",
       "DF    1091\n",
       "MA    1079\n",
       "PA     823\n",
       "AL     630\n",
       "SE     612\n",
       "TO     520\n",
       "AC     262\n",
       "RR     237\n",
       "AP     128\n",
       "AM     102\n",
       "Name: mortos, dtype: int64"
      ]
     },
     "execution_count": 109,
     "metadata": {},
     "output_type": "execute_result"
    }
   ],
   "source": [
    "graf_dados = df.groupby('uf').count().mortos.sort_values(ascending=False)\n",
    "graf_dados\n"
   ]
  },
  {
   "cell_type": "code",
   "execution_count": 110,
   "metadata": {},
   "outputs": [
    {
     "data": {
      "text/plain": [
       "Text(0.5, 1.0, 'Acidentes que mais tem mortos por estado')"
      ]
     },
     "execution_count": 110,
     "metadata": {},
     "output_type": "execute_result"
    },
    {
     "data": {
      "image/png": "[encoded data removed]",
      "text/plain": [
       "<Figure size 1080x360 with 1 Axes>"
      ]
     },
     "metadata": {
      "needs_background": "light"
     },
     "output_type": "display_data"
    }
   ],
   "source": [
    "plt.figure(figsize=(15,5))\n",
    "plt.bar(graf_dados.index, graf_dados.values)\n",
    "plt.title('Acidentes que mais tem mortos por estado')"
   ]
  },
  {
   "cell_type": "code",
   "execution_count": 113,
   "metadata": {},
   "outputs": [
    {
     "data": {
      "text/plain": [
       "causa_acidente\n",
       "Falta de Atenção à Condução                                                       25030\n",
       "Desobediência às normas de trânsito pelo condutor                                  8106\n",
       "Velocidade Incompatível                                                            6032\n",
       "Ingestão de Álcool                                                                 5420\n",
       "Não guardar distância de segurança                                                 4222\n",
       "Defeito Mecânico no Veículo                                                        3742\n",
       "Condutor Dormindo                                                                  2483\n",
       "Pista Escorregadia                                                                 2191\n",
       "Falta de Atenção do Pedestre                                                       1971\n",
       "Animais na Pista                                                                   1532\n",
       "Ultrapassagem Indevida                                                             1175\n",
       "Defeito na Via                                                                      978\n",
       "Avarias e/ou desgaste excessivo no pneu                                             801\n",
       "Mal Súbito                                                                          718\n",
       "Restrição de Visibilidade                                                           496\n",
       "Objeto estático sobre o leito carroçável                                            440\n",
       "Ingestão de álcool e/ou substâncias psicoativas pelo pedestre                       394\n",
       "Desobediência às normas de trânsito pelo pedestre                                   393\n",
       "Agressão Externa                                                                    384\n",
       "Carga excessiva e/ou mal acondicionada                                              305\n",
       "Sinalização da via insuficiente ou inadequada                                       247\n",
       "Fenômenos da Natureza                                                               231\n",
       "Deficiência ou não Acionamento do Sistema de Iluminação/Sinalização do Veículo      159\n",
       "Ingestão de Substâncias Psicoativas                                                  94\n",
       "Demais falhas mecânicas ou elétricas                                                  3\n",
       "Transitar na contramão                                                                2\n",
       "Ingestão de álcool ou de substâncias psicoativas pelo pedestre                        1\n",
       "Obras na pista                                                                        1\n",
       "Pista em desnível                                                                     1\n",
       "Pista esburacada                                                                      1\n",
       "Chuva                                                                                 1\n",
       "Ausência de reação do condutor                                                        1\n",
       "Acumulo de areia ou detritos sobre o pavimento                                        1\n",
       "Name: mortos, dtype: int64"
      ]
     },
     "execution_count": 113,
     "metadata": {},
     "output_type": "execute_result"
    }
   ],
   "source": [
    "graf_dados = df.groupby('causa_acidente').count().mortos.sort_values(ascending=False)\n",
    "graf_dados"
   ]
  },
  {
   "cell_type": "code",
   "execution_count": 118,
   "metadata": {},
   "outputs": [
    {
     "data": {
      "text/plain": [
       "Text(0.5, 1.0, 'Causa do acidente')"
      ]
     },
     "execution_count": 118,
     "metadata": {},
     "output_type": "execute_result"
    },
    {
     "data": {
      "image/png": "[encoded data removed]",
      "text/plain": [
       "<Figure size 7200x2160 with 1 Axes>"
      ]
     },
     "metadata": {
      "needs_background": "light"
     },
     "output_type": "display_data"
    }
   ],
   "source": [
    "plt.figure(figsize=(100,30))\n",
    "plt.bar(graf_dados.index, graf_dados.values)\n",
    "plt.title('Causa do acidente')"
   ]
  },
  {
   "cell_type": "code",
   "execution_count": 121,
   "metadata": {},
   "outputs": [
    {
     "data": {
      "text/plain": [
       "classificacao_acidente\n",
       "Com Vítimas Feridas    51275\n",
       "Sem Vítimas            11684\n",
       "Com Vítimas Fatais      4597\n",
       "Name: feridos, dtype: int64"
      ]
     },
     "execution_count": 121,
     "metadata": {},
     "output_type": "execute_result"
    }
   ],
   "source": [
    "graf_dados = df.groupby('classificacao_acidente').count().feridos.sort_values(ascending=False) \n",
    "graf_dados"
   ]
  },
  {
   "cell_type": "code",
   "execution_count": 123,
   "metadata": {},
   "outputs": [
    {
     "data": {
      "text/plain": [
       "Text(0.5, 1.0, 'Causa do acidente')"
      ]
     },
     "execution_count": 123,
     "metadata": {},
     "output_type": "execute_result"
    },
    {
     "data": {
      "image/png": "[encoded data removed]",
      "text/plain": [
       "<Figure size 1080x360 with 1 Axes>"
      ]
     },
     "metadata": {
      "needs_background": "light"
     },
     "output_type": "display_data"
    }
   ],
   "source": [
    "plt.figure(figsize=(15,5))\n",
    "plt.bar(graf_dados.index, graf_dados.values)\n",
    "plt.title('Causa do acidente')"
   ]
  },
  {
   "cell_type": "code",
   "execution_count": 124,
   "metadata": {},
   "outputs": [
    {
     "data": {
      "application/vnd.plotly.v1+json": {
       "config": {
        "plotlyServerURL": "https://plot.ly"
       },
       "data": [
        {
         "domain": {
          "x": [
           0,
           1
          ],
          "y": [
           0,
           1
          ]
         },
         "hovertemplate": "label=%{label}<br>value=%{value}<extra></extra>",
         "labels": [
          "Com Vítimas Feridas",
          "Com Vítimas Fatais",
          "Sem Vítimas"
         ],
         "legendgroup": "",
         "name": "",
         "showlegend": true,
         "type": "pie",
         "values": [
          "51183",
          "4592",
          "11671"
         ]
        }
       ],
       "layout": {
        "height": 300,
        "legend": {
         "tracegroupgap": 0
        },
        "margin": {
         "t": 60
        },
        "template": {
         "data": {
          "bar": [
           {
            "error_x": {
             "color": "#2a3f5f"
            },
            "error_y": {
             "color": "#2a3f5f"
            },
            "marker": {
             "line": {
              "color": "#E5ECF6",
              "width": 0.5
             },
             "pattern": {
              "fillmode": "overlay",
              "size": 10,
              "solidity": 0.2
             }
            },
            "type": "bar"
           }
          ],
          "barpolar": [
           {
            "marker": {
             "line": {
              "color": "#E5ECF6",
              "width": 0.5
             },
             "pattern": {
              "fillmode": "overlay",
              "size": 10,
              "solidity": 0.2
             }
            },
            "type": "barpolar"
           }
          ],
          "carpet": [
           {
            "aaxis": {
             "endlinecolor": "#2a3f5f",
             "gridcolor": "white",
             "linecolor": "white",
             "minorgridcolor": "white",
             "startlinecolor": "#2a3f5f"
            },
            "baxis": {
             "endlinecolor": "#2a3f5f",
             "gridcolor": "white",
             "linecolor": "white",
             "minorgridcolor": "white",
             "startlinecolor": "#2a3f5f"
            },
            "type": "carpet"
           }
          ],
          "choropleth": [
           {
            "colorbar": {
             "outlinewidth": 0,
             "ticks": ""
            },
            "type": "choropleth"
           }
          ],
          "contour": [
           {
            "colorbar": {
             "outlinewidth": 0,
             "ticks": ""
            },
            "colorscale": [
             [
              0,
              "#0d0887"
             ],
             [
              0.1111111111111111,
              "#46039f"
             ],
             [
              0.2222222222222222,
              "#7201a8"
             ],
             [
              0.3333333333333333,
              "#9c179e"
             ],
             [
              0.4444444444444444,
              "#bd3786"
             ],
             [
              0.5555555555555556,
              "#d8576b"
             ],
             [
              0.6666666666666666,
              "#ed7953"
             ],
             [
              0.7777777777777778,
              "#fb9f3a"
             ],
             [
              0.8888888888888888,
              "#fdca26"
             ],
             [
              1,
              "#f0f921"
             ]
            ],
            "type": "contour"
           }
          ],
          "contourcarpet": [
           {
            "colorbar": {
             "outlinewidth": 0,
             "ticks": ""
            },
            "type": "contourcarpet"
           }
          ],
          "heatmap": [
           {
            "colorbar": {
             "outlinewidth": 0,
             "ticks": ""
            },
            "colorscale": [
             [
              0,
              "#0d0887"
             ],
             [
              0.1111111111111111,
              "#46039f"
             ],
             [
              0.2222222222222222,
              "#7201a8"
             ],
             [
              0.3333333333333333,
              "#9c179e"
             ],
             [
              0.4444444444444444,
              "#bd3786"
             ],
             [
              0.5555555555555556,
              "#d8576b"
             ],
             [
              0.6666666666666666,
              "#ed7953"
             ],
             [
              0.7777777777777778,
              "#fb9f3a"
             ],
             [
              0.8888888888888888,
              "#fdca26"
             ],
             [
              1,
              "#f0f921"
             ]
            ],
            "type": "heatmap"
           }
          ],
          "heatmapgl": [
           {
            "colorbar": {
             "outlinewidth": 0,
             "ticks": ""
            },
            "colorscale": [
             [
              0,
              "#0d0887"
             ],
             [
              0.1111111111111111,
              "#46039f"
             ],
             [
              0.2222222222222222,
              "#7201a8"
             ],
             [
              0.3333333333333333,
              "#9c179e"
             ],
             [
              0.4444444444444444,
              "#bd3786"
             ],
             [
              0.5555555555555556,
              "#d8576b"
             ],
             [
              0.6666666666666666,
              "#ed7953"
             ],
             [
              0.7777777777777778,
              "#fb9f3a"
             ],
             [
              0.8888888888888888,
              "#fdca26"
             ],
             [
              1,
              "#f0f921"
             ]
            ],
            "type": "heatmapgl"
           }
          ],
          "histogram": [
           {
            "marker": {
             "pattern": {
              "fillmode": "overlay",
              "size": 10,
              "solidity": 0.2
             }
            },
            "type": "histogram"
           }
          ],
          "histogram2d": [
           {
            "colorbar": {
             "outlinewidth": 0,
             "ticks": ""
            },
            "colorscale": [
             [
              0,
              "#0d0887"
             ],
             [
              0.1111111111111111,
              "#46039f"
             ],
             [
              0.2222222222222222,
              "#7201a8"
             ],
             [
              0.3333333333333333,
              "#9c179e"
             ],
             [
              0.4444444444444444,
              "#bd3786"
             ],
             [
              0.5555555555555556,
              "#d8576b"
             ],
             [
              0.6666666666666666,
              "#ed7953"
             ],
             [
              0.7777777777777778,
              "#fb9f3a"
             ],
             [
              0.8888888888888888,
              "#fdca26"
             ],
             [
              1,
              "#f0f921"
             ]
            ],
            "type": "histogram2d"
           }
          ],
          "histogram2dcontour": [
           {
            "colorbar": {
             "outlinewidth": 0,
             "ticks": ""
            },
            "colorscale": [
             [
              0,
              "#0d0887"
             ],
             [
              0.1111111111111111,
              "#46039f"
             ],
             [
              0.2222222222222222,
              "#7201a8"
             ],
             [
              0.3333333333333333,
              "#9c179e"
             ],
             [
              0.4444444444444444,
              "#bd3786"
             ],
             [
              0.5555555555555556,
              "#d8576b"
             ],
             [
              0.6666666666666666,
              "#ed7953"
             ],
             [
              0.7777777777777778,
              "#fb9f3a"
             ],
             [
              0.8888888888888888,
              "#fdca26"
             ],
             [
              1,
              "#f0f921"
             ]
            ],
            "type": "histogram2dcontour"
           }
          ],
          "mesh3d": [
           {
            "colorbar": {
             "outlinewidth": 0,
             "ticks": ""
            },
            "type": "mesh3d"
           }
          ],
          "parcoords": [
           {
            "line": {
             "colorbar": {
              "outlinewidth": 0,
              "ticks": ""
             }
            },
            "type": "parcoords"
           }
          ],
          "pie": [
           {
            "automargin": true,
            "type": "pie"
           }
          ],
          "scatter": [
           {
            "fillpattern": {
             "fillmode": "overlay",
             "size": 10,
             "solidity": 0.2
            },
            "type": "scatter"
           }
          ],
          "scatter3d": [
           {
            "line": {
             "colorbar": {
              "outlinewidth": 0,
              "ticks": ""
             }
            },
            "marker": {
             "colorbar": {
              "outlinewidth": 0,
              "ticks": ""
             }
            },
            "type": "scatter3d"
           }
          ],
          "scattercarpet": [
           {
            "marker": {
             "colorbar": {
              "outlinewidth": 0,
              "ticks": ""
             }
            },
            "type": "scattercarpet"
           }
          ],
          "scattergeo": [
           {
            "marker": {
             "colorbar": {
              "outlinewidth": 0,
              "ticks": ""
             }
            },
            "type": "scattergeo"
           }
          ],
          "scattergl": [
           {
            "marker": {
             "colorbar": {
              "outlinewidth": 0,
              "ticks": ""
             }
            },
            "type": "scattergl"
           }
          ],
          "scattermapbox": [
           {
            "marker": {
             "colorbar": {
              "outlinewidth": 0,
              "ticks": ""
             }
            },
            "type": "scattermapbox"
           }
          ],
          "scatterpolar": [
           {
            "marker": {
             "colorbar": {
              "outlinewidth": 0,
              "ticks": ""
             }
            },
            "type": "scatterpolar"
           }
          ],
          "scatterpolargl": [
           {
            "marker": {
             "colorbar": {
              "outlinewidth": 0,
              "ticks": ""
             }
            },
            "type": "scatterpolargl"
           }
          ],
          "scatterternary": [
           {
            "marker": {
             "colorbar": {
              "outlinewidth": 0,
              "ticks": ""
             }
            },
            "type": "scatterternary"
           }
          ],
          "surface": [
           {
            "colorbar": {
             "outlinewidth": 0,
             "ticks": ""
            },
            "colorscale": [
             [
              0,
              "#0d0887"
             ],
             [
              0.1111111111111111,
              "#46039f"
             ],
             [
              0.2222222222222222,
              "#7201a8"
             ],
             [
              0.3333333333333333,
              "#9c179e"
             ],
             [
              0.4444444444444444,
              "#bd3786"
             ],
             [
              0.5555555555555556,
              "#d8576b"
             ],
             [
              0.6666666666666666,
              "#ed7953"
             ],
             [
              0.7777777777777778,
              "#fb9f3a"
             ],
             [
              0.8888888888888888,
              "#fdca26"
             ],
             [
              1,
              "#f0f921"
             ]
            ],
            "type": "surface"
           }
          ],
          "table": [
           {
            "cells": {
             "fill": {
              "color": "#EBF0F8"
             },
             "line": {
              "color": "white"
             }
            },
            "header": {
             "fill": {
              "color": "#C8D4E3"
             },
             "line": {
              "color": "white"
             }
            },
            "type": "table"
           }
          ]
         },
         "layout": {
          "annotationdefaults": {
           "arrowcolor": "#2a3f5f",
           "arrowhead": 0,
           "arrowwidth": 1
          },
          "autotypenumbers": "strict",
          "coloraxis": {
           "colorbar": {
            "outlinewidth": 0,
            "ticks": ""
           }
          },
          "colorscale": {
           "diverging": [
            [
             0,
             "#8e0152"
            ],
            [
             0.1,
             "#c51b7d"
            ],
            [
             0.2,
             "#de77ae"
            ],
            [
             0.3,
             "#f1b6da"
            ],
            [
             0.4,
             "#fde0ef"
            ],
            [
             0.5,
             "#f7f7f7"
            ],
            [
             0.6,
             "#e6f5d0"
            ],
            [
             0.7,
             "#b8e186"
            ],
            [
             0.8,
             "#7fbc41"
            ],
            [
             0.9,
             "#4d9221"
            ],
            [
             1,
             "#276419"
            ]
           ],
           "sequential": [
            [
             0,
             "#0d0887"
            ],
            [
             0.1111111111111111,
             "#46039f"
            ],
            [
             0.2222222222222222,
             "#7201a8"
            ],
            [
             0.3333333333333333,
             "#9c179e"
            ],
            [
             0.4444444444444444,
             "#bd3786"
            ],
            [
             0.5555555555555556,
             "#d8576b"
            ],
            [
             0.6666666666666666,
             "#ed7953"
            ],
            [
             0.7777777777777778,
             "#fb9f3a"
            ],
            [
             0.8888888888888888,
             "#fdca26"
            ],
            [
             1,
             "#f0f921"
            ]
           ],
           "sequentialminus": [
            [
             0,
             "#0d0887"
            ],
            [
             0.1111111111111111,
             "#46039f"
            ],
            [
             0.2222222222222222,
             "#7201a8"
            ],
            [
             0.3333333333333333,
             "#9c179e"
            ],
            [
             0.4444444444444444,
             "#bd3786"
            ],
            [
             0.5555555555555556,
             "#d8576b"
            ],
            [
             0.6666666666666666,
             "#ed7953"
            ],
            [
             0.7777777777777778,
             "#fb9f3a"
            ],
            [
             0.8888888888888888,
             "#fdca26"
            ],
            [
             1,
             "#f0f921"
            ]
           ]
          },
          "colorway": [
           "#636efa",
           "#EF553B",
           "#00cc96",
           "#ab63fa",
           "#FFA15A",
           "#19d3f3",
           "#FF6692",
           "#B6E880",
           "#FF97FF",
           "#FECB52"
          ],
          "font": {
           "color": "#2a3f5f"
          },
          "geo": {
           "bgcolor": "white",
           "lakecolor": "white",
           "landcolor": "#E5ECF6",
           "showlakes": true,
           "showland": true,
           "subunitcolor": "white"
          },
          "hoverlabel": {
           "align": "left"
          },
          "hovermode": "closest",
          "mapbox": {
           "style": "light"
          },
          "paper_bgcolor": "white",
          "plot_bgcolor": "#E5ECF6",
          "polar": {
           "angularaxis": {
            "gridcolor": "white",
            "linecolor": "white",
            "ticks": ""
           },
           "bgcolor": "#E5ECF6",
           "radialaxis": {
            "gridcolor": "white",
            "linecolor": "white",
            "ticks": ""
           }
          },
          "scene": {
           "xaxis": {
            "backgroundcolor": "#E5ECF6",
            "gridcolor": "white",
            "gridwidth": 2,
            "linecolor": "white",
            "showbackground": true,
            "ticks": "",
            "zerolinecolor": "white"
           },
           "yaxis": {
            "backgroundcolor": "#E5ECF6",
            "gridcolor": "white",
            "gridwidth": 2,
            "linecolor": "white",
            "showbackground": true,
            "ticks": "",
            "zerolinecolor": "white"
           },
           "zaxis": {
            "backgroundcolor": "#E5ECF6",
            "gridcolor": "white",
            "gridwidth": 2,
            "linecolor": "white",
            "showbackground": true,
            "ticks": "",
            "zerolinecolor": "white"
           }
          },
          "shapedefaults": {
           "line": {
            "color": "#2a3f5f"
           }
          },
          "ternary": {
           "aaxis": {
            "gridcolor": "white",
            "linecolor": "white",
            "ticks": ""
           },
           "baxis": {
            "gridcolor": "white",
            "linecolor": "white",
            "ticks": ""
           },
           "bgcolor": "#E5ECF6",
           "caxis": {
            "gridcolor": "white",
            "linecolor": "white",
            "ticks": ""
           }
          },
          "title": {
           "x": 0.05
          },
          "xaxis": {
           "automargin": true,
           "gridcolor": "white",
           "linecolor": "white",
           "ticks": "",
           "title": {
            "standoff": 15
           },
           "zerolinecolor": "white",
           "zerolinewidth": 2
          },
          "yaxis": {
           "automargin": true,
           "gridcolor": "white",
           "linecolor": "white",
           "ticks": "",
           "title": {
            "standoff": 15
           },
           "zerolinecolor": "white",
           "zerolinewidth": 2
          }
         }
        },
        "width": 700
       }
      }
     },
     "metadata": {},
     "output_type": "display_data"
    }
   ],
   "source": [
    "dados_x= ['Com Vítimas Feridas', 'Com Vítimas Fatais', 'Sem Vítimas' ]\n",
    "dados_y= ['51183', '4592', '11671']\n",
    "\n",
    "fig = px.pie(names=dados_x, values= dados_y, width=700, height=300)\n",
    "fig.show()"
   ]
  },
  {
   "cell_type": "code",
   "execution_count": 125,
   "metadata": {},
   "outputs": [
    {
     "data": {
      "application/vnd.plotly.v1+json": {
       "config": {
        "plotlyServerURL": "https://plot.ly"
       },
       "data": [
        {
         "alignmentgroup": "True",
         "hovertemplate": "x=%{x}<br>y=%{y}<extra></extra>",
         "legendgroup": "",
         "marker": {
          "color": "#636efa",
          "pattern": {
           "shape": ""
          }
         },
         "name": "",
         "offsetgroup": "",
         "orientation": "v",
         "showlegend": false,
         "textposition": "auto",
         "type": "bar",
         "x": [
          "Com Vítimas Feridas",
          "Com Vítimas Fatais",
          "Sem Vítimas"
         ],
         "xaxis": "x",
         "y": [
          51183,
          4592,
          11671
         ],
         "yaxis": "y"
        }
       ],
       "layout": {
        "barmode": "relative",
        "height": 500,
        "legend": {
         "tracegroupgap": 0
        },
        "margin": {
         "t": 60
        },
        "template": {
         "data": {
          "bar": [
           {
            "error_x": {
             "color": "#2a3f5f"
            },
            "error_y": {
             "color": "#2a3f5f"
            },
            "marker": {
             "line": {
              "color": "#E5ECF6",
              "width": 0.5
             },
             "pattern": {
              "fillmode": "overlay",
              "size": 10,
              "solidity": 0.2
             }
            },
            "type": "bar"
           }
          ],
          "barpolar": [
           {
            "marker": {
             "line": {
              "color": "#E5ECF6",
              "width": 0.5
             },
             "pattern": {
              "fillmode": "overlay",
              "size": 10,
              "solidity": 0.2
             }
            },
            "type": "barpolar"
           }
          ],
          "carpet": [
           {
            "aaxis": {
             "endlinecolor": "#2a3f5f",
             "gridcolor": "white",
             "linecolor": "white",
             "minorgridcolor": "white",
             "startlinecolor": "#2a3f5f"
            },
            "baxis": {
             "endlinecolor": "#2a3f5f",
             "gridcolor": "white",
             "linecolor": "white",
             "minorgridcolor": "white",
             "startlinecolor": "#2a3f5f"
            },
            "type": "carpet"
           }
          ],
          "choropleth": [
           {
            "colorbar": {
             "outlinewidth": 0,
             "ticks": ""
            },
            "type": "choropleth"
           }
          ],
          "contour": [
           {
            "colorbar": {
             "outlinewidth": 0,
             "ticks": ""
            },
            "colorscale": [
             [
              0,
              "#0d0887"
             ],
             [
              0.1111111111111111,
              "#46039f"
             ],
             [
              0.2222222222222222,
              "#7201a8"
             ],
             [
              0.3333333333333333,
              "#9c179e"
             ],
             [
              0.4444444444444444,
              "#bd3786"
             ],
             [
              0.5555555555555556,
              "#d8576b"
             ],
             [
              0.6666666666666666,
              "#ed7953"
             ],
             [
              0.7777777777777778,
              "#fb9f3a"
             ],
             [
              0.8888888888888888,
              "#fdca26"
             ],
             [
              1,
              "#f0f921"
             ]
            ],
            "type": "contour"
           }
          ],
          "contourcarpet": [
           {
            "colorbar": {
             "outlinewidth": 0,
             "ticks": ""
            },
            "type": "contourcarpet"
           }
          ],
          "heatmap": [
           {
            "colorbar": {
             "outlinewidth": 0,
             "ticks": ""
            },
            "colorscale": [
             [
              0,
              "#0d0887"
             ],
             [
              0.1111111111111111,
              "#46039f"
             ],
             [
              0.2222222222222222,
              "#7201a8"
             ],
             [
              0.3333333333333333,
              "#9c179e"
             ],
             [
              0.4444444444444444,
              "#bd3786"
             ],
             [
              0.5555555555555556,
              "#d8576b"
             ],
             [
              0.6666666666666666,
              "#ed7953"
             ],
             [
              0.7777777777777778,
              "#fb9f3a"
             ],
             [
              0.8888888888888888,
              "#fdca26"
             ],
             [
              1,
              "#f0f921"
             ]
            ],
            "type": "heatmap"
           }
          ],
          "heatmapgl": [
           {
            "colorbar": {
             "outlinewidth": 0,
             "ticks": ""
            },
            "colorscale": [
             [
              0,
              "#0d0887"
             ],
             [
              0.1111111111111111,
              "#46039f"
             ],
             [
              0.2222222222222222,
              "#7201a8"
             ],
             [
              0.3333333333333333,
              "#9c179e"
             ],
             [
              0.4444444444444444,
              "#bd3786"
             ],
             [
              0.5555555555555556,
              "#d8576b"
             ],
             [
              0.6666666666666666,
              "#ed7953"
             ],
             [
              0.7777777777777778,
              "#fb9f3a"
             ],
             [
              0.8888888888888888,
              "#fdca26"
             ],
             [
              1,
              "#f0f921"
             ]
            ],
            "type": "heatmapgl"
           }
          ],
          "histogram": [
           {
            "marker": {
             "pattern": {
              "fillmode": "overlay",
              "size": 10,
              "solidity": 0.2
             }
            },
            "type": "histogram"
           }
          ],
          "histogram2d": [
           {
            "colorbar": {
             "outlinewidth": 0,
             "ticks": ""
            },
            "colorscale": [
             [
              0,
              "#0d0887"
             ],
             [
              0.1111111111111111,
              "#46039f"
             ],
             [
              0.2222222222222222,
              "#7201a8"
             ],
             [
              0.3333333333333333,
              "#9c179e"
             ],
             [
              0.4444444444444444,
              "#bd3786"
             ],
             [
              0.5555555555555556,
              "#d8576b"
             ],
             [
              0.6666666666666666,
              "#ed7953"
             ],
             [
              0.7777777777777778,
              "#fb9f3a"
             ],
             [
              0.8888888888888888,
              "#fdca26"
             ],
             [
              1,
              "#f0f921"
             ]
            ],
            "type": "histogram2d"
           }
          ],
          "histogram2dcontour": [
           {
            "colorbar": {
             "outlinewidth": 0,
             "ticks": ""
            },
            "colorscale": [
             [
              0,
              "#0d0887"
             ],
             [
              0.1111111111111111,
              "#46039f"
             ],
             [
              0.2222222222222222,
              "#7201a8"
             ],
             [
              0.3333333333333333,
              "#9c179e"
             ],
             [
              0.4444444444444444,
              "#bd3786"
             ],
             [
              0.5555555555555556,
              "#d8576b"
             ],
             [
              0.6666666666666666,
              "#ed7953"
             ],
             [
              0.7777777777777778,
              "#fb9f3a"
             ],
             [
              0.8888888888888888,
              "#fdca26"
             ],
             [
              1,
              "#f0f921"
             ]
            ],
            "type": "histogram2dcontour"
           }
          ],
          "mesh3d": [
           {
            "colorbar": {
             "outlinewidth": 0,
             "ticks": ""
            },
            "type": "mesh3d"
           }
          ],
          "parcoords": [
           {
            "line": {
             "colorbar": {
              "outlinewidth": 0,
              "ticks": ""
             }
            },
            "type": "parcoords"
           }
          ],
          "pie": [
           {
            "automargin": true,
            "type": "pie"
           }
          ],
          "scatter": [
           {
            "fillpattern": {
             "fillmode": "overlay",
             "size": 10,
             "solidity": 0.2
            },
            "type": "scatter"
           }
          ],
          "scatter3d": [
           {
            "line": {
             "colorbar": {
              "outlinewidth": 0,
              "ticks": ""
             }
            },
            "marker": {
             "colorbar": {
              "outlinewidth": 0,
              "ticks": ""
             }
            },
            "type": "scatter3d"
           }
          ],
          "scattercarpet": [
           {
            "marker": {
             "colorbar": {
              "outlinewidth": 0,
              "ticks": ""
             }
            },
            "type": "scattercarpet"
           }
          ],
          "scattergeo": [
           {
            "marker": {
             "colorbar": {
              "outlinewidth": 0,
              "ticks": ""
             }
            },
            "type": "scattergeo"
           }
          ],
          "scattergl": [
           {
            "marker": {
             "colorbar": {
              "outlinewidth": 0,
              "ticks": ""
             }
            },
            "type": "scattergl"
           }
          ],
          "scattermapbox": [
           {
            "marker": {
             "colorbar": {
              "outlinewidth": 0,
              "ticks": ""
             }
            },
            "type": "scattermapbox"
           }
          ],
          "scatterpolar": [
           {
            "marker": {
             "colorbar": {
              "outlinewidth": 0,
              "ticks": ""
             }
            },
            "type": "scatterpolar"
           }
          ],
          "scatterpolargl": [
           {
            "marker": {
             "colorbar": {
              "outlinewidth": 0,
              "ticks": ""
             }
            },
            "type": "scatterpolargl"
           }
          ],
          "scatterternary": [
           {
            "marker": {
             "colorbar": {
              "outlinewidth": 0,
              "ticks": ""
             }
            },
            "type": "scatterternary"
           }
          ],
          "surface": [
           {
            "colorbar": {
             "outlinewidth": 0,
             "ticks": ""
            },
            "colorscale": [
             [
              0,
              "#0d0887"
             ],
             [
              0.1111111111111111,
              "#46039f"
             ],
             [
              0.2222222222222222,
              "#7201a8"
             ],
             [
              0.3333333333333333,
              "#9c179e"
             ],
             [
              0.4444444444444444,
              "#bd3786"
             ],
             [
              0.5555555555555556,
              "#d8576b"
             ],
             [
              0.6666666666666666,
              "#ed7953"
             ],
             [
              0.7777777777777778,
              "#fb9f3a"
             ],
             [
              0.8888888888888888,
              "#fdca26"
             ],
             [
              1,
              "#f0f921"
             ]
            ],
            "type": "surface"
           }
          ],
          "table": [
           {
            "cells": {
             "fill": {
              "color": "#EBF0F8"
             },
             "line": {
              "color": "white"
             }
            },
            "header": {
             "fill": {
              "color": "#C8D4E3"
             },
             "line": {
              "color": "white"
             }
            },
            "type": "table"
           }
          ]
         },
         "layout": {
          "annotationdefaults": {
           "arrowcolor": "#2a3f5f",
           "arrowhead": 0,
           "arrowwidth": 1
          },
          "autotypenumbers": "strict",
          "coloraxis": {
           "colorbar": {
            "outlinewidth": 0,
            "ticks": ""
           }
          },
          "colorscale": {
           "diverging": [
            [
             0,
             "#8e0152"
            ],
            [
             0.1,
             "#c51b7d"
            ],
            [
             0.2,
             "#de77ae"
            ],
            [
             0.3,
             "#f1b6da"
            ],
            [
             0.4,
             "#fde0ef"
            ],
            [
             0.5,
             "#f7f7f7"
            ],
            [
             0.6,
             "#e6f5d0"
            ],
            [
             0.7,
             "#b8e186"
            ],
            [
             0.8,
             "#7fbc41"
            ],
            [
             0.9,
             "#4d9221"
            ],
            [
             1,
             "#276419"
            ]
           ],
           "sequential": [
            [
             0,
             "#0d0887"
            ],
            [
             0.1111111111111111,
             "#46039f"
            ],
            [
             0.2222222222222222,
             "#7201a8"
            ],
            [
             0.3333333333333333,
             "#9c179e"
            ],
            [
             0.4444444444444444,
             "#bd3786"
            ],
            [
             0.5555555555555556,
             "#d8576b"
            ],
            [
             0.6666666666666666,
             "#ed7953"
            ],
            [
             0.7777777777777778,
             "#fb9f3a"
            ],
            [
             0.8888888888888888,
             "#fdca26"
            ],
            [
             1,
             "#f0f921"
            ]
           ],
           "sequentialminus": [
            [
             0,
             "#0d0887"
            ],
            [
             0.1111111111111111,
             "#46039f"
            ],
            [
             0.2222222222222222,
             "#7201a8"
            ],
            [
             0.3333333333333333,
             "#9c179e"
            ],
            [
             0.4444444444444444,
             "#bd3786"
            ],
            [
             0.5555555555555556,
             "#d8576b"
            ],
            [
             0.6666666666666666,
             "#ed7953"
            ],
            [
             0.7777777777777778,
             "#fb9f3a"
            ],
            [
             0.8888888888888888,
             "#fdca26"
            ],
            [
             1,
             "#f0f921"
            ]
           ]
          },
          "colorway": [
           "#636efa",
           "#EF553B",
           "#00cc96",
           "#ab63fa",
           "#FFA15A",
           "#19d3f3",
           "#FF6692",
           "#B6E880",
           "#FF97FF",
           "#FECB52"
          ],
          "font": {
           "color": "#2a3f5f"
          },
          "geo": {
           "bgcolor": "white",
           "lakecolor": "white",
           "landcolor": "#E5ECF6",
           "showlakes": true,
           "showland": true,
           "subunitcolor": "white"
          },
          "hoverlabel": {
           "align": "left"
          },
          "hovermode": "closest",
          "mapbox": {
           "style": "light"
          },
          "paper_bgcolor": "white",
          "plot_bgcolor": "#E5ECF6",
          "polar": {
           "angularaxis": {
            "gridcolor": "white",
            "linecolor": "white",
            "ticks": ""
           },
           "bgcolor": "#E5ECF6",
           "radialaxis": {
            "gridcolor": "white",
            "linecolor": "white",
            "ticks": ""
           }
          },
          "scene": {
           "xaxis": {
            "backgroundcolor": "#E5ECF6",
            "gridcolor": "white",
            "gridwidth": 2,
            "linecolor": "white",
            "showbackground": true,
            "ticks": "",
            "zerolinecolor": "white"
           },
           "yaxis": {
            "backgroundcolor": "#E5ECF6",
            "gridcolor": "white",
            "gridwidth": 2,
            "linecolor": "white",
            "showbackground": true,
            "ticks": "",
            "zerolinecolor": "white"
           },
           "zaxis": {
            "backgroundcolor": "#E5ECF6",
            "gridcolor": "white",
            "gridwidth": 2,
            "linecolor": "white",
            "showbackground": true,
            "ticks": "",
            "zerolinecolor": "white"
           }
          },
          "shapedefaults": {
           "line": {
            "color": "#2a3f5f"
           }
          },
          "ternary": {
           "aaxis": {
            "gridcolor": "white",
            "linecolor": "white",
            "ticks": ""
           },
           "baxis": {
            "gridcolor": "white",
            "linecolor": "white",
            "ticks": ""
           },
           "bgcolor": "#E5ECF6",
           "caxis": {
            "gridcolor": "white",
            "linecolor": "white",
            "ticks": ""
           }
          },
          "title": {
           "x": 0.05
          },
          "xaxis": {
           "automargin": true,
           "gridcolor": "white",
           "linecolor": "white",
           "ticks": "",
           "title": {
            "standoff": 15
           },
           "zerolinecolor": "white",
           "zerolinewidth": 2
          },
          "yaxis": {
           "automargin": true,
           "gridcolor": "white",
           "linecolor": "white",
           "ticks": "",
           "title": {
            "standoff": 15
           },
           "zerolinecolor": "white",
           "zerolinewidth": 2
          }
         }
        },
        "width": 400,
        "xaxis": {
         "anchor": "y",
         "domain": [
          0,
          1
         ],
         "title": {
          "text": "x"
         }
        },
        "yaxis": {
         "anchor": "x",
         "domain": [
          0,
          1
         ],
         "title": {
          "text": "y"
         }
        }
       }
      }
     },
     "metadata": {},
     "output_type": "display_data"
    }
   ],
   "source": [
    "dados_x= ['Com Vítimas Feridas', 'Com Vítimas Fatais', 'Sem Vítimas' ]\n",
    "dados_y= [51183, 4592, 11671]\n",
    "\n",
    "fig = px.bar(x=dados_x, y=dados_y, width=400, height=500)\n",
    "fig.show()"
   ]
  }
 ],
 "metadata": {
  "kernelspec": {
   "display_name": "Python 3.10.6 64-bit",
   "language": "python",
   "name": "python3"
  },
  "language_info": {
   "codemirror_mode": {
    "name": "ipython",
    "version": 3
   },
   "file_extension": ".py",
   "mimetype": "text/x-python",
   "name": "python",
   "nbconvert_exporter": "python",
   "pygments_lexer": "ipython3",
   "version": "3.10.6"
  },
  "orig_nbformat": 4,
  "vscode": {
   "interpreter": {
    "hash": "aee8b7b246df8f9039afb4144a1f6fd8d2ca17a180786b69acc140d282b71a49"
   }
  }
 },
 "nbformat": 4,
 "nbformat_minor": 2
}
